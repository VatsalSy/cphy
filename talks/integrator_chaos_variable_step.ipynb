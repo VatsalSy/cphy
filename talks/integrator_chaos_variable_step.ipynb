{
 "cells": [
  {
   "cell_type": "code",
   "execution_count": 3,
   "id": "9ee03d2d-906b-4dee-aee1-b48f2a17a887",
   "metadata": {},
   "outputs": [],
   "source": [
    "import numpy as np\n",
    "\n",
    "# Import local plotting functions and in-notebook display functions\n",
    "import matplotlib.pyplot as plt\n",
    "%matplotlib inline\n"
   ]
  },
  {
   "cell_type": "markdown",
   "id": "d4a7cbd5",
   "metadata": {},
   "source": [
    "# Numerical integration with variable-step methods\n",
    "\n",
    "Previously, we encountered fixed-step integrators, which take steps towards the solution of an initial value problem using a fixed time step $\\Delta t$. In this notebook, we will explore variable-step integrators, which take steps of varying size to achieve a desired accuracy.\n",
    "\n",
    "\n",
    "### Relationship to optimization\n",
    "\n",
    "In optimization, we saw second-order methods like Newton's method, in which the gradient descent step scales inversely with the local concavity. In numerical integration, we will see methods that scale inversely with the local smoothness. This is a common theme in numerical methods: we want to take steps that are inversely proportional to the local smoothness of the problem."
   ]
  },
  {
   "cell_type": "code",
   "execution_count": null,
   "id": "56430ed5",
   "metadata": {},
   "outputs": [],
   "source": [
    "class RK4VariableStep:\n",
    "\n",
    "    def __init__(self, f, x0, t0, dt0, dt_min, dt_max, tol, max_steps=10000):\n",
    "        self.f = f\n",
    "        self.x = x0\n",
    "        self.t = t0\n",
    "        self.dt = dt0\n",
    "        self.dt_min = dt_min\n",
    "        self.dt_max = dt_max\n",
    "        self.tol = tol\n",
    "        self.max_steps = max_steps\n",
    "        self.n_steps = 0\n",
    "\n",
    "    def step(self):\n",
    "        f = self.f\n",
    "        t = self.t\n",
    "        x = self.x\n",
    "        dt = self.dt\n",
    "        k1 = dt * f(t, x)\n",
    "        k2 = dt * f(t + dt / 2, x + k1 / 2)\n",
    "        k3 = dt * f(t + dt / 2, x + k2 / 2)\n",
    "        k4 = dt * f(t + dt, x + k3)\n",
    "        x_new = x + (k1 + 2 * k2 + 2 * k3 + k4) / 6\n",
    "        err = np.max(np.abs(x_new - x))\n",
    "        if err < self.tol:\n",
    "            self.x = x_new\n",
    "            self.t += dt\n",
    "            self.n_steps += 1\n",
    "            if self.dt < self.dt_max:\n",
    "                self.dt *= 2\n",
    "        else:\n",
    "            if self.dt > self.dt_min:\n",
    "                self.dt /= 2\n",
    "        return err\n",
    "\n",
    "    def integrate(self):\n",
    "        err = 1\n",
    "        while err > self.tol and self.n_steps < self.max_steps:\n",
    "            err = self.step()\n",
    "        return self.t, self.x\n"
   ]
  },
  {
   "cell_type": "code",
   "execution_count": null,
   "id": "6cac7d1c",
   "metadata": {},
   "outputs": [],
   "source": []
  },
  {
   "cell_type": "code",
   "execution_count": null,
   "id": "0de5c411",
   "metadata": {},
   "outputs": [],
   "source": []
  },
  {
   "cell_type": "code",
   "execution_count": null,
   "id": "7b3c0464",
   "metadata": {},
   "outputs": [],
   "source": []
  },
  {
   "cell_type": "markdown",
   "id": "b3c4d747",
   "metadata": {},
   "source": [
    "# Symplectic\n",
    "\n",
    "When we have an explict conserved quantity, many of the above methods will fail\n",
    "\n"
   ]
  },
  {
   "cell_type": "code",
   "execution_count": null,
   "id": "8829bf75",
   "metadata": {},
   "outputs": [],
   "source": [
    "class ThreeBody:\n",
    "\n",
    "    def __init__(self, m1, m2, m3, G=1):\n",
    "        self.m1 = m1\n",
    "        self.m2 = m2\n",
    "        self.m3 = m3\n",
    "        self.G = G\n",
    "\n",
    "    def __call__(self, t, x):\n",
    "        m1 = self.m1\n",
    "        m2 = self.m2\n",
    "        m3 = self.m3\n",
    "        G = self.G\n",
    "        x1 = x[0:3]\n",
    "        x2 = x[3:6]\n",
    "        x3 = x[6:9]\n",
    "        v1 = x[9:12]\n",
    "        v2 = x[12:15]\n",
    "        v3 = x[15:18]\n",
    "        r12 = x2 - x1\n",
    "        r13 = x3 - x1\n",
    "        r23 = x3 - x2\n",
    "        r12_mag = np.sqrt(np.sum(r12 ** 2))\n",
    "        r13_mag = np.sqrt(np.sum(r13 ** 2))\n",
    "        r23_mag = np.sqrt(np.sum(r23 ** 2))\n",
    "        a1 = G * m2 / r12_mag ** 3 * r12 + G * m3 / r13_mag ** 3 * r13\n",
    "        a2 = G * m1 / r12_mag ** 3 * -r12 + G * m3 / r23_mag ** 3 * r23\n",
    "        a3 = G * m1 / r13_mag ** 3 * -r13 + G * m2 / r23_mag ** 3 * -r23\n",
    "        return np.concatenate((v1, v2, v3, a1, a2, a3))"
   ]
  },
  {
   "cell_type": "code",
   "execution_count": 25,
   "id": "19899002",
   "metadata": {},
   "outputs": [],
   "source": [
    "class SimplePendulum:\n",
    "\n",
    "    def __init__(self, g=9.82, l=1.0):\n",
    "        self.g = g\n",
    "        self.l = l\n",
    "\n",
    "    def __call__(self, t, x):\n",
    "        g = self.g\n",
    "        l = self.l\n",
    "        theta, omega = x\n",
    "        dtheta = omega\n",
    "        domega = -g / l * np.sin(theta)\n",
    "        return np.array([dtheta, domega])\n",
    "\n",
    "pendulum = SimplePendulum()\n",
    "\n",
    "from scipy.integrate import solve_ivp\n",
    "\n",
    "# Initial conditions\n",
    "x0 = np.array([np.pi / 2, 0.0])\n",
    "t0 = 0.0\n",
    "\n",
    "# solve ivp\n",
    "\n",
    "# Set up integrator\n",
    "integrator = solve_ivp(pendulum, [t0, 2000], x0, method='RK45', max_step=1e-2)"
   ]
  },
  {
   "cell_type": "code",
   "execution_count": 24,
   "id": "99339b33",
   "metadata": {},
   "outputs": [
    {
     "data": {
      "text/plain": [
       "[<matplotlib.lines.Line2D at 0x1553b5990>]"
      ]
     },
     "execution_count": 24,
     "metadata": {},
     "output_type": "execute_result"
    },
    {
     "data": {
      "image/png": "[encoded data removed]",
      "text/plain": [
       "<Figure size 640x480 with 1 Axes>"
      ]
     },
     "metadata": {},
     "output_type": "display_data"
    }
   ],
   "source": [
    "plt.plot(integrator.y[0, :])"
   ]
  },
  {
   "cell_type": "markdown",
   "id": "ae322ea8",
   "metadata": {},
   "source": [
    "# Stochastic differential equations\n",
    "\n",
    "What if our differential equation has a stochastic component? We can use the same methods as before, but we need to take into account the stochastic component. We will use the Euler-Maruyama method, which is a first-order method for stochastic differential equations. The method is given by\n",
    "\n",
    "$$\n",
    "\\begin{align}\n",
    "\\mathbf{x}_{n+1} &= \\mathbf{x}_n + \\Delta t\\; \\mathbf{f}(\\mathbf{x}_n) + \\sqrt{\\Delta t}\\; g(\\mathbf{x}_n) \\xi_n \\\\\n",
    "\\xi_n &\\sim \\mathcal{N}(0, 1)\n",
    "\\end{align}\n",
    "$$\n",
    "\n",
    "+ Notice that this is similar to how we implemented Ornstein-Uhlenbeck dynamics earlier in the course. We are just replacing the harmonic oscillator forcing with our general right hand side. \n",
    "+ We scale our noise term by $\\sqrt{\\Delta t}$. Recall that Brownian motion has a mean *square* displacement that scales as $\\Delta t$, which corresponds to the average distance from origin scaling as $\\sqrt{t}$.\n",
    "\n",
    "\n",
    "+ Nice discussion of various methods by [Tim Sauer here](https://math.gmu.edu/~tsauer/pre/sde.pdf)\n"
   ]
  },
  {
   "cell_type": "code",
   "execution_count": null,
   "id": "36f20291",
   "metadata": {},
   "outputs": [],
   "source": [
    "class EulerMaruyamaVariableStep:\n",
    "\n",
    "    def __init__(self, f, g, x0, t0, dt0, dt_min, dt_max, tol, max_steps=10000):\n",
    "        self.f = f\n",
    "        self.g = g\n",
    "        self.x = x0\n",
    "        self.t = t0\n",
    "        self.dt = dt0\n",
    "        self.dt_min = dt_min\n",
    "        self.dt_max = dt_max\n",
    "        self.tol = tol\n",
    "        self.max_steps = max_steps\n",
    "        self.n_steps = 0\n",
    "\n",
    "    def update(self):\n",
    "        f = self.f\n",
    "        g = self.g\n",
    "        t = self.t\n",
    "        x = self.x\n",
    "        dt = self.dt\n",
    "        x_new = x + dt * f(t, x) + np.sqrt(dt) * g(t, x)\n",
    "        err = np.max(np.abs(x_new - x))\n",
    "        if err < self.tol:\n",
    "            self.x = x_new\n",
    "            self.t += dt\n",
    "            self.n_steps += 1\n",
    "            if self.dt < self.dt_max:\n",
    "                self.dt *= 2\n",
    "        else:\n",
    "            if self.dt > self.dt_min:\n",
    "                self.dt /= 2\n",
    "        return err\n",
    "\n",
    "    def integrate(self):\n",
    "        err = 1\n",
    "        while err > self.tol and self.n_steps < self.max_steps:\n",
    "            err = self.update()\n",
    "        return self.t, self.x"
   ]
  },
  {
   "cell_type": "code",
   "execution_count": null,
   "id": "399101e8",
   "metadata": {},
   "outputs": [],
   "source": [
    "class StochasticRungeKutta4VariableStep:\n",
    "\n",
    "    def __init__(self, f, g, x0, t0, dt0, dt_min, dt_max, tol, max_steps=10000):\n",
    "        self.f = f\n",
    "        self.g = g\n",
    "        self.x = x0\n",
    "        self.t = t0\n",
    "        self.dt = dt0\n",
    "        self.dt_min = dt_min\n",
    "        self.dt_max = dt_max\n",
    "        self.tol = tol\n",
    "        self.max_steps = max_steps\n",
    "        self.n_steps = 0\n",
    "\n",
    "    def update(self):\n",
    "        f = self.f\n",
    "        g = self.g\n",
    "        t = self.t\n",
    "        x = self.x\n",
    "        dt = self.dt\n",
    "        k1 = dt * f(t, x)\n",
    "        k2 = dt * f(t + dt / 2, x + k1 / 2)\n",
    "        k3 = dt * f(t + dt / 2, x + k2 / 2)\n",
    "        k4 = dt * f(t + dt, x + k3)\n",
    "        x_new = x + (k1 + 2 * k2 + 2 * k3 + k4) / 6\n",
    "        err = np.max(np.abs(x_new - x))\n",
    "        if err < self.tol:\n",
    "            self.x = x_new\n",
    "            self.t += dt\n",
    "            self.n_steps += 1\n",
    "            if self.dt < self.dt_max:\n",
    "                self.dt *= 2\n",
    "        else:\n",
    "            if self.dt > self.dt_min:\n",
    "                self.dt /= 2\n",
    "        return err\n",
    "\n",
    "    def integrate(self):\n",
    "        err = 1\n",
    "        while err > self.tol and self.n_steps < self.max_steps:\n",
    "            err = self.update()\n",
    "        return self.t, self.x"
   ]
  }
 ],
 "metadata": {
  "kernelspec": {
   "display_name": "Python 3.10.4 ('cphy')",
   "language": "python",
   "name": "python3"
  },
  "language_info": {
   "codemirror_mode": {
    "name": "ipython",
    "version": 3
   },
   "file_extension": ".py",
   "mimetype": "text/x-python",
   "name": "python",
   "nbconvert_exporter": "python",
   "pygments_lexer": "ipython3",
   "version": "3.10.4"
  },
  "vscode": {
   "interpreter": {
    "hash": "0e972983abb2b5c6293c34082f6ff1f6e60e8afbd2a068e0026ccecbb212fdb6"
   }
  }
 },
 "nbformat": 4,
 "nbformat_minor": 5
}
