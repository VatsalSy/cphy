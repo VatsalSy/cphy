{
 "cells": [
  {
   "cell_type": "markdown",
   "metadata": {},
   "source": [
    "# Classifying phases of the Ising Model with Logistic Regression\n",
    "\n",
    "This notebook is modified from notebooks originally developed in [Pankaj Mehta's ML for physics course](http://physics.bu.edu/~pankajm/PY580.html).\n"
   ]
  },
  {
   "cell_type": "markdown",
   "metadata": {},
   "source": [
    "#### Preamble"
   ]
  },
  {
   "cell_type": "code",
   "execution_count": null,
   "metadata": {},
   "outputs": [],
   "source": [
    "## Preamble / required packages\n",
    "import numpy as np\n",
    "np.random.seed(0)\n",
    "\n",
    "# Import local plotting functions and in-notebook display functions\n",
    "import matplotlib.pyplot as plt\n",
    "from IPython.display import Image, display\n",
    "%matplotlib inline\n",
    "\n",
    "import warnings\n",
    "# Comment this out to activate warnings\n",
    "warnings.filterwarnings('ignore')\n",
    "\n",
    "## Machine learning package\n",
    "import sklearn\n"
   ]
  },
  {
   "cell_type": "code",
   "execution_count": null,
   "metadata": {},
   "outputs": [],
   "source": []
  },
  {
   "cell_type": "markdown",
   "metadata": {},
   "source": [
    "### The road to deep learning\n",
    "\n",
    "1. Many trainable parameters (giant matrix multiplications)\n",
    "\n",
    "2. **Nonlinearity (increases expressivity) <-- Today**\n",
    "\n",
    "3. Training (gradient descent plus the chain rule)"
   ]
  },
  {
   "cell_type": "code",
   "execution_count": null,
   "metadata": {},
   "outputs": [],
   "source": []
  },
  {
   "cell_type": "code",
   "execution_count": null,
   "metadata": {},
   "outputs": [],
   "source": []
  },
  {
   "cell_type": "markdown",
   "metadata": {},
   "source": [
    "## Learning Goal\n",
    "\n",
    "+ We will show Logistic models can classify the states of the 2D Ising model according to their phase. \n",
    "\n",
    "+ Recall that the energy function of the classical Ising model is given by the Hamiltonian\n",
    "\n",
    "  $$ H = -J\\sum_{\\langle ij\\rangle}S_{i}S_j,\\qquad \\qquad S_j\\in\\{\\pm 1\\} $$\n",
    "\n",
    "  where the lattice site indices $i,j$ run over all nearest neighbors of a 2D square lattice, and $J$ is some arbitrary interaction energy scale. We adopt periodic boundary conditions. \n",
    "\n",
    "+ In two dimensions, Onsager proved that this model undergoes a thermal phase transition in the thermodynamic limit from an ordered ferromagnet with all spins aligned to a disordered phase at the critical temperature $T_c/J=2/\\log(1+\\sqrt{2})\\approx 2.26$. \n",
    "\n",
    "+ For any finite system size, this critical point is expanded to a critical **region** around $T_c$.\n",
    "\n",
    "\n",
    "\n",
    "\n",
    "<img src=\"../resources/2d_ising.png\" alt=\"2D Ising Phase Diagram\" style=\"width: 750px;\"/>\n",
    "\n",
    "\n",
    "## The 2D Ising Dataset\n",
    "\n",
    "+ We consider the 2D Ising model on a $40\\times 40$ square lattice, and use Monte-Carlo (MC) sampling to prepare $10^4$ states at every fixed temperature $T$ out of a pre-defined set $T\\in[0.25,0.5,\\cdots,4.0]$. \n",
    "\n",
    "+ Using Onsager's criterion, we can assign a label to each state according to its phase: $0$ if the state is disordered, and $1$ if it is ordered. Our goal is to predict the phase of a sample given the spin configuration.\n",
    "\n",
    "+ It is well-known that, near the critical temperature $T_c$, the ferromagnetic correlation length diverges which, among other things, leads to a critical slowing down of the MC algorithm. Therefore, we expect identifying the phases to be harder in the critical region. With this in mind, consider the following three types of states: ordered ($T/J<2.0$), critical ($2.0\\leq T/J\\leq 2.5$) and disordered ($T/J>2.5$).\n",
    "\n",
    "+ We use both ordered and disordered states to train the logistic regressor and once the supervised training procedure is complete, we evaluate the performance of our classification model on unseen ordered, disordered and critical states. "
   ]
  },
  {
   "cell_type": "code",
   "execution_count": null,
   "metadata": {},
   "outputs": [],
   "source": []
  },
  {
   "cell_type": "code",
   "execution_count": null,
   "metadata": {},
   "outputs": [],
   "source": []
  },
  {
   "cell_type": "markdown",
   "metadata": {},
   "source": [
    "# Can we predict the phase, giving only the microstate?\n",
    "\n",
    "+ For the Ising model, we saw that linear regression effectively finds the coupling matrix $J$ for a Hamiltonian\n",
    "\n",
    "+ Instead of regressing macroscopic energies, we will instead ask a qualitative question: Can we predict the phase of the system based on only the microstate? \n",
    "\n",
    "+ If we can successfully perform this operation, then we've essentially learned a computational surrogate for our experiments, which might be expensive to perform individually. The surrogates could be used to find critical points, for example."
   ]
  },
  {
   "cell_type": "code",
   "execution_count": null,
   "metadata": {},
   "outputs": [],
   "source": []
  },
  {
   "cell_type": "code",
   "execution_count": null,
   "metadata": {},
   "outputs": [],
   "source": []
  },
  {
   "cell_type": "markdown",
   "metadata": {},
   "source": [
    "# Load the Ising dataset\n",
    "\n",
    "+ We now load in the data which is hosted on Pankaj Mehta's [website](http://physics.bu.edu/~pankajm/MLnotebooks.html).\n",
    "+ We will wrap the import logic into a separate class"
   ]
  },
  {
   "cell_type": "code",
   "execution_count": null,
   "metadata": {},
   "outputs": [],
   "source": [
    "import pickle, os\n",
    "from urllib.request import urlopen\n",
    "\n",
    "from sklearn.model_selection import train_test_split\n",
    "\n",
    "class IsingSimulation:\n",
    "    \"\"\"\n",
    "    A container class for the Ising model simulation data.\n",
    "    \"\"\"\n",
    "\n",
    "    def __init__(self):\n",
    "        self.load_simulation()\n",
    "\n",
    "    def load_simulation(self):\n",
    "        \"\"\"\n",
    "        Load the compressed data and format it into a configuration amenable to \n",
    "        machine learning.\n",
    "        \"\"\"\n",
    "        ## URL of data\n",
    "        url_main = \"https://physics.bu.edu/~pankajm/ML-Review-Datasets/isingMC/\"\n",
    "        # The data consists of 16*10000 samples taken in T=np.arange(0.25,4.0001,0.25):\n",
    "        data_file_name = \"Ising2DFM_reSample_L40_T=All.pkl\"\n",
    "        # The labels are obtained from the following file:\n",
    "        label_file_name = \"Ising2DFM_reSample_L40_T=All_labels.pkl\"\n",
    "\n",
    "        # Ising model parameters used in the simulation\n",
    "        self.L = 40  # linear system size\n",
    "        self.J = -1.0  # Ising interaction\n",
    "        self.T = np.linspace(0.25, 4.0, 16)  # set of temperatures\n",
    "        self.T_c = 2.26  # Onsager critical temperature in the TD limit\n",
    "\n",
    "        # Load dataset into numpy\n",
    "        X_all = pickle.load(\n",
    "            urlopen(url_main + data_file_name)\n",
    "        )  # pickle reads the file and returns the Python object (1D array, compressed bits)\n",
    "        X_all = np.unpackbits(X_all).reshape(\n",
    "            -1, 1600\n",
    "        )  # Decompress array and reshape for convenience\n",
    "        X_all = X_all.astype(\"int\")\n",
    "        X_all[\n",
    "            np.where(X_all == 0)\n",
    "        ] = -1  # map 0 state to -1 (Ising variable can take values +/-1)\n",
    "        self.X_all = X_all\n",
    "\n",
    "        # LABELS (convention is 1 for ordered states and 0 for disordered states)\n",
    "        labels = pickle.load(\n",
    "            urlopen(url_main + label_file_name)\n",
    "        )\n",
    "        self.labels = labels\n",
    "        ##  pickle reads the file and returns the Python object (here just a 1D array with\n",
    "        ##  binary labels)\n",
    "        self.num_classes = np.unique(self.labels) # should be 2: ordered or disordered\n",
    "\n",
    "        \n",
    "    def reshape_datapoint(self, x):\n",
    "        \"\"\"\n",
    "        Given a single simulation snapshot, reshape into original square lattice\n",
    "        \"\"\"\n",
    "        return x.reshape(self.L, self.L)\n",
    "        \n",
    "    def find_magnetization(x, axis=-1):\n",
    "        \"\"\"\n",
    "        Given a single simulation snapshot, calculate the magnetization\n",
    "        \"\"\"\n",
    "        return np.mean(x, axis=axis)\n",
    "\n",
    "    def split_data(self, split_ratio=0.5):\n",
    "        \"\"\"\n",
    "        Split data into training and test sets\n",
    "        \n",
    "        Parameters:\n",
    "        split_ratio (float): ratio of training data to total data\n",
    "        \"\"\"\n",
    "\n",
    "        # pick random data points from ordered and disordered states\n",
    "        # to create the training and test sets\n",
    "        X_train, X_test, y_train, y_test = train_test_split(\n",
    "            self.X_all, self.labels, train_size=split_ratio, test_size=1.0 - split_ratio\n",
    "        )\n",
    "\n",
    "        return X_train, X_test, y_train, y_test\n",
    "\n",
    "    \n",
    "## fetch the Ising dataset\n",
    "dataset = IsingSimulation()\n",
    "# dataset2 = IsingSimulation()"
   ]
  },
  {
   "cell_type": "code",
   "execution_count": null,
   "metadata": {},
   "outputs": [],
   "source": [
    "##### plot a few representative Ising states\n",
    "fig, axarr = plt.subplots(nrows=1, ncols=3)\n",
    "\n",
    "axarr[0].imshow(dataset.reshape_datapoint(dataset.X_all[20001]), cmap='binary')\n",
    "axarr[0].set_title('$\\\\mathrm{ordered\\\\ phase}$',fontsize=16)\n",
    "axarr[0].tick_params(labelsize=16)\n",
    "\n",
    "axarr[1].imshow(dataset.reshape_datapoint(dataset.X_all[80001]), cmap='binary')\n",
    "axarr[1].set_title('Critical Region, $T \\sim T_c$',fontsize=16)\n",
    "axarr[1].tick_params(labelsize=16)\n",
    "\n",
    "axarr[2].imshow(dataset.reshape_datapoint(dataset.X_all[150001]), cmap='binary')\n",
    "axarr[2].set_title('$\\\\mathrm{disordered\\\\ phase}$',fontsize=16)\n",
    "axarr[2].tick_params(labelsize=16)\n",
    "\n",
    "fig.subplots_adjust(right=2.0)\n",
    "\n",
    "plt.show()\n",
    "\n",
    "\n",
    "plt.figure()\n",
    "plt.hist(dataset.labels)\n",
    "plt.xlabel('Ising Class')\n",
    "plt.ylabel('Number of Samples')\n",
    "plt.show()\n"
   ]
  },
  {
   "cell_type": "code",
   "execution_count": null,
   "metadata": {},
   "outputs": [],
   "source": [
    "## Create an interactive plot using ipywidgets\n",
    "\n",
    "from ipywidgets import interact, Layout\n",
    "import ipywidgets as widgets\n",
    "\n",
    "\n",
    "frames = dataset.X_all[::2000].reshape(-1, 40, 40)\n",
    "frame_labels = np.mean(frames, axis=(1, 2))\n",
    "frames = frames[np.argsort(frame_labels)]\n",
    "frame_labels = frame_labels[np.argsort(frame_labels)]\n",
    "\n",
    "def plotter(i):\n",
    "    fig = plt.figure(figsize=(6, 6))\n",
    "    plt.imshow(frames[i], cmap='binary', vmin=-1, vmax=1)\n",
    "    plt.axis('off')\n",
    "    plt.title(f'Average magnetization: {frame_labels[i]:.2f}', fontsize=16)\n",
    "    plt.show()\n",
    "\n",
    "\n",
    "\n",
    "interact(\n",
    "    plotter, \n",
    "    i=widgets.IntSlider(0, 0, len(frames) - 1, 1, layout=Layout(width='500px'))\n",
    ")"
   ]
  },
  {
   "cell_type": "code",
   "execution_count": null,
   "metadata": {},
   "outputs": [],
   "source": []
  },
  {
   "cell_type": "markdown",
   "metadata": {},
   "source": [
    "## Supervised learning to classify phases of the 2D Ising model\n",
    "\n",
    "+ Given an Ising microstatestate, we would like to classify whether it belongs to the ordered (label 0) or the disordered phase (label 1), without any additional information other than the spin configuration itself. \n",
    "\n",
    "+ This categorical machine learning problem is well suited for logistic regression. \n",
    "\n"
   ]
  },
  {
   "cell_type": "code",
   "execution_count": null,
   "metadata": {},
   "outputs": [],
   "source": []
  },
  {
   "cell_type": "markdown",
   "metadata": {},
   "source": [
    "#### Make our training and testing sets\n",
    "\n",
    "+ We need a testing set to avoid overfitting"
   ]
  },
  {
   "cell_type": "code",
   "execution_count": null,
   "metadata": {},
   "outputs": [],
   "source": [
    "## pick random data points from ordered and disordered states\n",
    "X_train, X_test, y_train, y_test = dataset.split_data()\n",
    "\n",
    "print(f\"X_train shape: {X_train.shape}\")\n",
    "print(f\"X_test shape: {X_test.shape}\")\n",
    "print(f\"y_train shape: {y_train.shape}\")\n",
    "print(f\"y_test shape: {y_test.shape}\")"
   ]
  },
  {
   "cell_type": "code",
   "execution_count": null,
   "metadata": {},
   "outputs": [],
   "source": []
  },
  {
   "cell_type": "markdown",
   "metadata": {},
   "source": [
    "## Logistic regression\n",
    "\n",
    "+ Earlier, we used linear regression to fit the energy of the Ising model given observations of the spin configuration\n",
    "\n",
    "+ Our input variables, $X$, corresponded to snapshots of microstates. Our output variables, $y$, corresponded to energies\n",
    "\n",
    "+ Energy is a continuous variable, that changes relatively smoothly in response to small changes in microstates (such as individual spin flips)\n",
    "\n",
    "+ In contrast, the phase of the Ising model is a categorical variable, which can only take on two values: ordered or disordered\n",
    "\n",
    "+ Our input variables, $X$, correspond to snapshots of microstates. However, our output variables, $y$, will now correspond to phases\n",
    "\n",
    "Logistic classifier:\n",
    "$$\n",
    "\\hat y_i = \\dfrac{1}{1 + \\exp(- A \\cdot X_i)}\n",
    "$$\n",
    "Where $A$ is a learnable parameter vector that defines the relative weight of the different observed features in our dataset. Our goal will be for $hat y_i$ to match the true label (phase), $y_i$. However, because the logistic function is sigmoidal, $y_i$ will be $\\pm 1$ for most values of $X$.\n",
    "\n",
    "\n",
    "\n"
   ]
  },
  {
   "cell_type": "code",
   "execution_count": null,
   "metadata": {},
   "outputs": [],
   "source": [
    "ax = np.linspace(-10, 10, 200) # hypothetical A @ X\n",
    "\n",
    "## logistic function\n",
    "y = 1 / (1 + np.exp(-ax))\n",
    "\n",
    "plt.plot(ax, y, linewidth=3.5)\n",
    "## latex label for A @ X\n",
    "plt.xlabel(r'$A \\cdot X$', fontsize=16)\n",
    "plt.ylabel('$\\hat{y}$', fontsize=16)\n",
    "plt.title('The Logistic Function', fontsize=16)"
   ]
  },
  {
   "cell_type": "markdown",
   "metadata": {},
   "source": [
    "<img src=\"../resources/classification_vs_regression2.png\" alt=\"classification vs regression\" style=\"width: 750px;\"/>"
   ]
  },
  {
   "cell_type": "code",
   "execution_count": null,
   "metadata": {},
   "outputs": [],
   "source": []
  },
  {
   "cell_type": "markdown",
   "metadata": {},
   "source": [
    "## Approach\n",
    "\n",
    "**Idea: perform a linear regression, and then assign a label by applying a nonlinear function to the linear output**\n",
    "\n",
    "Logistic classifier has the form\n",
    "$$\n",
    "\\hat y_i = \\dfrac{1}{1 + \\exp(- A \\cdot X_i)}\n",
    "$$\n",
    "\n",
    "we can relate this to  linear regression problem through the use of a \"link function\" $g(.)$ that we apply to both sides of the equation:\n",
    "$$\n",
    "g(y_i) \\equiv \\log\\bigg(\\dfrac{y_i}{1 - y_i}\\bigg) = A \\cdot X_i\n",
    "$$\n",
    "\n",
    "So we just need to perform linear regression between our data and the transformed labels, $g(y_i)$."
   ]
  },
  {
   "cell_type": "code",
   "execution_count": null,
   "metadata": {},
   "outputs": [],
   "source": []
  },
  {
   "cell_type": "markdown",
   "metadata": {},
   "source": [
    "### Other link functions exist for different data types\n",
    "\n",
    "+ Count data: logarithmic transform\n",
    "+ Power law data: double logarithm\n",
    "+ Poisson and Binomial: rate depends on linear transform\n",
    "\n",
    "This class of models is sometimes called [General Linear Models](https://en.wikipedia.org/wiki/Generalized_linear_model)"
   ]
  },
  {
   "cell_type": "markdown",
   "metadata": {},
   "source": [
    "## How do we fit our model?\n",
    "\n",
    "A seemingly obvious choice: transform our labels/regression targets with the link function $g$ and then fit a linear regression using standard methods"
   ]
  },
  {
   "cell_type": "code",
   "execution_count": 99,
   "metadata": {},
   "outputs": [
    {
     "name": "stdout",
     "output_type": "stream",
     "text": [
      "Accuracy: 0.50\n"
     ]
    }
   ],
   "source": [
    "class LogisticClassifier:\n",
    "\n",
    "    def __init__(self, num_classes=2):\n",
    "        self.num_classes = num_classes\n",
    "\n",
    "    def fit(self, X, y):\n",
    "        \"\"\"\n",
    "        Fit the model to the data X and labels y using gradient descent and\n",
    "        the logistic link function\n",
    "        \"\"\"\n",
    "\n",
    "        # convert yhat to g via inverse link function\n",
    "        g = self._inverse_link_function(y)\n",
    "\n",
    "        # moore-penrose pseudoinverse\n",
    "        self.A = np.linalg.pinv(X) @ g\n",
    "\n",
    "    def predict(self, X):\n",
    "        yhat = self._link_function(X @ self.A)\n",
    "        yhat = np.round(yhat).astype(int)\n",
    "        return yhat\n",
    "    \n",
    "    def _link_function(self, y):\n",
    "        return 1 / (1 + np.exp(-y))\n",
    "    \n",
    "    def _inverse_link_function(self, y):\n",
    "        return np.log(y / (1 - y + 1e-5) + 1e-5)\n",
    "        \n",
    "\n",
    "\n",
    "model = LogisticClassifier()\n",
    "\n",
    "model.fit(X_train, y_train)\n",
    "\n",
    "yhat = model.predict(X_test)\n",
    "\n",
    "print(f\"Accuracy: {np.mean(yhat == y_test):.2f}\")\n",
    "\n"
   ]
  },
  {
   "cell_type": "markdown",
   "metadata": {},
   "source": [
    "### is this good?\n",
    "\n",
    "+ We want to compare the accuracy to the fraction of each class in the test set"
   ]
  },
  {
   "cell_type": "code",
   "execution_count": null,
   "metadata": {},
   "outputs": [],
   "source": [
    "## What would I expect?\n",
    "\n",
    "print(\"Fraction disordered train \", np.mean(y_train))\n",
    "print(\"Fraction disordered test \", np.mean(y_test))"
   ]
  },
  {
   "cell_type": "code",
   "execution_count": null,
   "metadata": {},
   "outputs": [],
   "source": []
  },
  {
   "cell_type": "code",
   "execution_count": null,
   "metadata": {},
   "outputs": [],
   "source": []
  },
  {
   "cell_type": "markdown",
   "metadata": {},
   "source": [
    "## Nonlinear fitting is hard\n",
    "\n",
    "Suppose that our input $X \\in \\mathbb{R}^N$ has some uncertainty $\\sigma_X \\in \\mathbb{R}^N$. Then, our output $y$ will have some uncertainty $\\sigma_y$. We can compute this uncertainty by taking the derivative of the model with respect to $X$:\n",
    "\n",
    "$$\n",
    "\\sigma_y = \\sqrt{\\sum_i \\bigg(\\dfrac{\\partial y}{\\partial X_i}\\bigg)^2 \\sigma_{X_i}^2}\n",
    "$$\n",
    "\n",
    "For a linear model, this is just:\n",
    "\n",
    "$$\n",
    "\\sigma_y = \\sqrt{\\sum_i A_i^2 \\sigma_{X_i}^2}\n",
    "$$\n",
    "\n",
    "Now suppose our linear model arises because we transformed the labels using a the link function $g(x) = \\log(y) - \\log(1 - y)$. Then, the error in the transformed labels is given by the chain rule:\n",
    "\n",
    "$$\n",
    "\\sigma_{g(y)} = \\sqrt{\\bigg(\\dfrac{\\partial g}{\\partial y}\\bigg)^2 \\sigma_y^2} = \\sqrt{\\bigg(\\dfrac{1}{y(1 - y)}\\bigg)^2 \\sigma_y^2} = \\dfrac{\\sigma_y}{y(1 - y)}\n",
    "$$\n",
    "\n",
    "We can replace $\\sigma_{g(y)}$ with the error in the linear model, $\\sqrt{\\sum_i A_i^2 \\sigma_{X_i}^2}$, and solve for $\\sigma_y$:\n",
    "\n",
    "$$\n",
    "\\sigma_y =  y(1 - y)\\sqrt{\\sum_i A_i^2 \\sigma_{X_i}^2}\n",
    "$$\n",
    "\n",
    "Because linear regression assumes that the error in measurements is independent of $y$, using standard linear regression to fit a logistic model will overweight the importance of points with $y \\approx 0.5$."
   ]
  },
  {
   "cell_type": "code",
   "execution_count": null,
   "metadata": {},
   "outputs": [],
   "source": []
  },
  {
   "cell_type": "code",
   "execution_count": null,
   "metadata": {},
   "outputs": [],
   "source": []
  },
  {
   "cell_type": "code",
   "execution_count": null,
   "metadata": {},
   "outputs": [],
   "source": []
  },
  {
   "cell_type": "markdown",
   "metadata": {},
   "source": [
    "## How do we fit our model?\n",
    "\n",
    "Issues with performing ordinary least squares on transformed data:\n",
    "\n",
    "+ Linear regression with OLS (ie, matrix methods) assumes errors are normally distributed. Without any additional information, we might assume that the measurements ($X_i$) have normally-distributed errors, but that doesn't mean that $g(X_i)$ has normal errors\n",
    "\n",
    "+ In practice, this causes certain errors to be overweighted based on the gradient of the link function\n"
   ]
  },
  {
   "cell_type": "code",
   "execution_count": null,
   "metadata": {},
   "outputs": [],
   "source": []
  },
  {
   "cell_type": "code",
   "execution_count": null,
   "metadata": {},
   "outputs": [],
   "source": []
  },
  {
   "cell_type": "markdown",
   "metadata": {},
   "source": [
    "\n",
    "\n",
    "\n",
    "###  A better option: Define a loss function, and fit with gradient descent\n",
    "\n",
    "+ A good choice of loss function for binary classification is the cross-entropy loss, which is the negative log-likelihood of the data given the model:\n",
    "\n",
    "  $$\n",
    "  \\mathcal{L}(y, \\hat{y}) =\\ -y\\log {\\hat {y}}-(1-y)\\log(1-{\\hat {y}})\n",
    "  $$ \n",
    "\n",
    "  where $\\hat y_i$ is the predicted probability of class $y_i$ and $i$ indexes over the training data. Notice that this function is zero when $\\hat{y} = y_i$ and grows quickly as $\\hat{y} \\rightarrow 1 - y_i$, but it also takes intermediate values in the \"transition\" region of the logistic function. The loss of a batch of training data is the sum over the loss of each individual data point.\n",
    "\n",
    "<!-- The loss function for logistic regression is given by the cross-entropy loss, which is the negative log-likelihood of the data given the model:\n",
    "\n",
    "$$\n",
    "\\mathcal{L} = -\\sum_i \\bigg[ y_i \\log(\\hat y_i) + (1 - y_i) \\log(1 - \\hat y_i) \\bigg]\n",
    "$$\n",
    "\n",
    "where $\\hat y_i$ is the predicted probability of class $y_i$ and $i$ indexes over the training data. -->\n",
    "\n",
    "+ + Notice that the cross-entropy loss resembles the connection function $g(.)$. With some algebra, we can show that the cross-entropy loss is equivalent to the negative log-likelihood of the data given the model.\n"
   ]
  },
  {
   "cell_type": "code",
   "execution_count": 100,
   "metadata": {},
   "outputs": [
    {
     "name": "stdout",
     "output_type": "stream",
     "text": [
      "Classification accuracy on training set:  0.693775\n",
      "Classification accuracy on test set:  0.6649\n"
     ]
    }
   ],
   "source": [
    "## Fit logistic regression model\n",
    "from sklearn import linear_model\n",
    "\n",
    "model_logistic = linear_model.LogisticRegression()\n",
    "\n",
    "model_logistic.fit(X_train, y_train)\n",
    "\n",
    "y_pred_train = model_logistic.predict(X_train)\n",
    "y_pred_test = model_logistic.predict(X_test)\n",
    "\n",
    "# plt.plot(y_pred_train, y_train, '.')\n",
    "print(\"Classification accuracy on training set: \", np.sum(y_pred_train == y_train) / len(y_train))\n",
    "print(\"Classification accuracy on test set: \", np.sum(y_pred_test == y_test) / len(y_test))"
   ]
  },
  {
   "cell_type": "code",
   "execution_count": null,
   "metadata": {},
   "outputs": [],
   "source": [
    "## What would I expect?\n",
    "\n",
    "print(\"Fraction disordered train \", np.mean(y_train))\n",
    "print(\"Fraction disordered test \", np.mean(y_test))"
   ]
  },
  {
   "cell_type": "code",
   "execution_count": null,
   "metadata": {},
   "outputs": [],
   "source": []
  },
  {
   "cell_type": "markdown",
   "metadata": {},
   "source": [
    "## Which datapoints does logistic regression fit well?\n",
    "\n",
    "Not all datapoints are created equal. We can compute the magnetization order parameter for each microstate, which corresponds to the mean bearing of all spins. "
   ]
  },
  {
   "cell_type": "code",
   "execution_count": null,
   "metadata": {},
   "outputs": [],
   "source": [
    "\n",
    "## All observed microstates and their phase labels\n",
    "X_all = dataset.X_all.copy()\n",
    "y_all = dataset.labels.copy()\n",
    "\n",
    "\n",
    "## Compute magnetization and sort datapoints by magnetization\n",
    "magnetization = np.mean(X_all, axis=1)\n",
    "sort_inds = np.argsort(magnetization)\n",
    "magnetization = magnetization[sort_inds]\n",
    "X_all = X_all[sort_inds, :]\n",
    "y_all = y_all[sort_inds]\n",
    "\n",
    "## Bin the datapoints by magnetization and compute the classifier accuracy\n",
    "## in each magntization bin\n",
    "bin_width = 1000\n",
    "all_acc = []\n",
    "all_mag = []\n",
    "for i in range(0, len(X_all) - bin_width, bin_width):\n",
    "    X_batch, y_batch = X_all[i:i+bin_width], y_all[i:i+bin_width]\n",
    "\n",
    "    y_pred = model_logistic.predict(X_batch)\n",
    "    acc = np.sum(y_pred == y_batch) / len(y_batch)\n",
    "    all_acc.append(acc)\n",
    "\n",
    "    mag = np.mean(magnetization[i:i+bin_width])\n",
    "    all_mag.append(mag)\n",
    "\n",
    "\n",
    "plt.plot(all_mag, all_acc, '.')\n",
    "plt.xlabel('Microstate magnetization')\n",
    "plt.ylabel('Classification accuracy')"
   ]
  },
  {
   "cell_type": "markdown",
   "metadata": {},
   "source": [
    "## Interpreting the results\n",
    "\n",
    "+ Visually, it's clear that points near the critical point are harder to classify\n",
    "\n",
    "+ In finite-size systems, the critical point is expanded to a critical region, which means that there is a finite region of parameter space where the system is critical and thus harder to classify\n",
    "\n"
   ]
  },
  {
   "cell_type": "code",
   "execution_count": null,
   "metadata": {},
   "outputs": [],
   "source": []
  },
  {
   "cell_type": "markdown",
   "metadata": {},
   "source": [
    "## Is the model just counting average spin values?"
   ]
  },
  {
   "cell_type": "code",
   "execution_count": 122,
   "metadata": {},
   "outputs": [],
   "source": [
    "# model.coef_\n",
    "plt.figure()\n",
    "plt.imshow(model_logistic.coef_.reshape(40, 40))\n",
    "plt.xlabel('x')\n",
    "plt.ylabel('y')\n",
    "plt.title('Fitted Coefficients')\n",
    "\n",
    "coeff_null = np.random.normal(loc=np.mean(model_logistic.coef_), scale=np.std(model_logistic.coef_), size=(40, 40))\n",
    "\n",
    "plt.figure()\n",
    "plt.imshow(coeff_null)\n",
    "plt.xlabel('x')\n",
    "plt.ylabel('y')\n",
    "plt.title('Null Model Coefficients')\n",
    "\n",
    "## power spectrum\n",
    "plt.figure()\n",
    "fft = np.fft.fftshift(np.fft.fft2(model_logistic.coef_.reshape(40, 40)))\n",
    "plt.imshow(np.abs(fft))\n",
    "plt.xlabel('kx')\n",
    "plt.ylabel('ky')\n",
    "plt.title('Power Spectrum of Fitted Coefficients')\n",
    "\n",
    "\n",
    "plt.figure()\n",
    "fft = np.fft.fftshift(np.fft.fft2(coeff_null))\n",
    "plt.imshow(np.abs(fft))\n",
    "plt.xlabel('kx')\n",
    "plt.ylabel('ky')\n",
    "plt.title('Power Spectrum of Null Model')"
   ]
  },
  {
   "cell_type": "code",
   "execution_count": null,
   "metadata": {},
   "outputs": [],
   "source": []
  },
  {
   "cell_type": "code",
   "execution_count": null,
   "metadata": {},
   "outputs": [],
   "source": []
  },
  {
   "cell_type": "markdown",
   "metadata": {},
   "source": [
    "## Error scoring for classification\n",
    "\n",
    "+ The mean squared error could work, but for labelling problems where predictions take discrete values, other error functions may be preferable\n",
    "\n",
    "+ An intuitive metric would be the accuracy: $$Acc = \\dfrac{1}{N} \\sum_i^{N} \\mathcal{I}_{y_i, \\hat{y}_i}$$ where $\\mathcal{I}$ denotes the indicator function, which returns $1$ if the prediction $\\hat{y}_i$ equals the true label $y_i$, and zero otherwise. The accuracy is the fraction of microstates that were assigned the correct phase.\n",
    "\n",
    "+ Many other metrics exist for classification problems. For example, when classes are extremely imbalanced (ie, we only have a few observations of one phase, but many of another), the accuracy gives a deceptive picture of our method's accuracy. Other metrics to consider include the balanced accuracy, as well as the true positive rate, false positive rate, and confusion matrix"
   ]
  },
  {
   "cell_type": "code",
   "execution_count": null,
   "metadata": {},
   "outputs": [],
   "source": [
    "def cross_entropy(y, y_pred):\n",
    "    y_pred = np.clip(y_pred, 1e-15, 1 - 1e-15) # clip to avoid log(0)\n",
    "    return -np.sum(y * np.log(y_pred) + (1 - y) * np.log(1 - y_pred))\n",
    "\n",
    "def accuracy(y, y_pred):\n",
    "    return np.sum(y == y_pred) / len(y)\n",
    "\n",
    "print(\"Accuracy on training set: \", accuracy(y_train, model_logistic.predict(X_train)))\n",
    "print(\"Cross-entropy on training set: \", cross_entropy(y_train, model_logistic.predict_proba(X_train)[:, 1]), \"\\n\")\n",
    "\n",
    "print(\"Accuracy on test set: \", accuracy(y_test, y_pred_test))\n",
    "print(\"Cross-entropy on test set: \", cross_entropy(y_test, y_pred_test))"
   ]
  },
  {
   "cell_type": "code",
   "execution_count": null,
   "metadata": {},
   "outputs": [],
   "source": [
    "np.sum(confusion_matrix, axis=1)"
   ]
  },
  {
   "cell_type": "code",
   "execution_count": null,
   "metadata": {},
   "outputs": [],
   "source": [
    "from sklearn import metrics\n",
    "\n",
    "confusion_matrix = metrics.confusion_matrix(y_test, y_pred_test, normalize=\"true\")\n",
    "\n",
    "plt.imshow(confusion_matrix, cmap=plt.cm.Blues, interpolation=\"nearest\")\n",
    "plt.colorbar(label=\"Fraction of predictions\")\n",
    "tick_marks = np.arange(2)\n",
    "plt.xticks(tick_marks, [\"disordered\", \"ordered\"])\n",
    "plt.yticks(tick_marks, [\"disordered\", \"ordered\"])\n",
    "plt.xlabel(\"Predicted label\", fontsize=16)\n",
    "plt.ylabel(\"True label\", fontsize=16)\n",
    "plt.title(\"Confusion matrix\", fontsize=16)\n",
    "plt.show()"
   ]
  },
  {
   "cell_type": "markdown",
   "metadata": {},
   "source": [
    "<img src=\"../resources/confusion_matrix.png\" alt=\"Confusion Matrix\" style=\"width: 500px;\"/>"
   ]
  },
  {
   "cell_type": "markdown",
   "metadata": {},
   "source": [
    "There are four quantities describing the confusion matrix for binary classification. By convention, \"positive\" is class 1 and \"negative\" is class 0.\n",
    "+ True positive rate (TPR): $\\dfrac{TP}{TP + FN}$\n",
    "+ False positive rate (FPR): $\\dfrac{FP}{FP + TN}$\n",
    "+ True negative rate (TNR): $\\dfrac{TN}{TN + FP}$\n",
    "+ False negative rate (FNR): $\\dfrac{FN}{FN + TP}$"
   ]
  },
  {
   "cell_type": "markdown",
   "metadata": {},
   "source": [
    "## Accuracy is a deceptive metric\n",
    "\n",
    "+ A COVID paper in 2020 claimed 98% accuracy predicing whether a patient had COVID or not based on CT scans of lung tissue\n",
    "+ + This was a result of the fact that the dataset was imbalanced: 98% of the patients did not have COVID\n",
    "\n",
    "\n"
   ]
  },
  {
   "cell_type": "markdown",
   "metadata": {},
   "source": [
    "\n",
    "\n",
    "Composite scores account for imbalance in training data\n",
    "+ Balanced accuracy: $\\dfrac{1}{2} \\left( \\dfrac{TP}{TP + FN} + \\dfrac{TN}{TN + FP} \\right)$\n",
    "\n",
    "\n",
    "\n",
    "\n",
    "\n",
    "+ Precision is the fraction of positive predictions that are correct: $\\dfrac{TP}{TP + FP}$\n",
    "+ Recall is the fraction of positive samples that are correctly predicted: $\\dfrac{TP}{TP + FN}$\n",
    "+ F1 score balances precision and recall: $\\dfrac{2}{\\dfrac{1}{TPR} + \\dfrac{1}{precision}}$\n"
   ]
  },
  {
   "cell_type": "code",
   "execution_count": 95,
   "metadata": {},
   "outputs": [
    {
     "data": {
      "image/png": "[encoded data removed]",
      "text/plain": [
       "<Figure size 640x480 with 1 Axes>"
      ]
     },
     "metadata": {},
     "output_type": "display_data"
    }
   ],
   "source": [
    "## Plot the ROC curve\n",
    "from sklearn.metrics import roc_curve, auc\n",
    "\n",
    "fpr, tpr, _ = roc_curve(y_test, y_pred_test)\n",
    "roc_auc = auc(fpr, tpr)\n",
    "\n",
    "plt.plot(fpr, tpr, color=\"darkorange\", lw=2, label=\"ROC curve (area = %0.2f)\" % roc_auc)\n",
    "plt.plot([0, 1], [0, 1], color=\"navy\", lw=2, linestyle=\"--\")\n",
    "plt.xlim([0.0, 1.0])\n",
    "plt.ylim([0.0, 1.05])\n",
    "plt.xlabel(\"False Positive Rate\")\n",
    "plt.ylabel(\"True Positive Rate\")\n",
    "plt.title(\"Receiver operating characteristic\")\n",
    "plt.legend(loc=\"lower right\")\n",
    "plt.gca().set_aspect(\"equal\")\n",
    "plt.show()\n"
   ]
  },
  {
   "cell_type": "code",
   "execution_count": null,
   "metadata": {},
   "outputs": [],
   "source": []
  },
  {
   "cell_type": "markdown",
   "metadata": {},
   "source": [
    "## Classification vs Regression\n",
    "\n",
    "+ Regression: Given datapoints $X_i$, our labels $\\hat{y}_i$ are *continuous values* that we want to interpolate\n",
    "+ Classification: Given datapoints $X_i$, our labels $\\hat{y}_i$ are an unordered set of integers denoting distinct classes\n",
    "\n",
    "<img src=\"../resources/classification_vs_regression.png\" alt=\"Classification vs Regression\" style=\"width: 750px;\"/>\n",
    "\n",
    "[Image Source](https://www.javatpoint.com/regression-vs-classification-in-machine-learning)"
   ]
  },
  {
   "cell_type": "code",
   "execution_count": null,
   "metadata": {},
   "outputs": [],
   "source": []
  },
  {
   "cell_type": "code",
   "execution_count": null,
   "metadata": {},
   "outputs": [],
   "source": []
  },
  {
   "cell_type": "markdown",
   "metadata": {},
   "source": [
    "## Can we get error bars on our scores? \n",
    "\n",
    "### Bootstrapping\n",
    "\n",
    "+ Many parametric models have well-defined error properties. For example, if we fit a Gaussian to a point cloud, we can read off the uncertainty of the centroid because the variance is actually a fitting parameter\n",
    "\n",
    "+ We have explicit equations describing linear and logistic regression; we can imagine propagating uncertainties in the inputs directly through the model.\n",
    "\n",
    "+ For a black-box or very complex model where we only have the ability to compute input/output pairs, we need to do something more creative.\n",
    "\n",
    "### Bootstrapping: randomly subsample the input data *with replacement*, and generate new predictions. \n",
    "+ + Why replacement? For finite datasets, we treat the dataset as an empirical approximation of the data population itself. We therefore want to approximate sampling the original population, while reducing dependence on the specificities of our original distribution. For example, resampling helps us avoid outliers.\n",
    "\n",
    "+ + Compared to full error propagation, bootstrapping is usually computationally expensive but conceptually simple. Extremely useful for non-differentiable models, small training datasts, or unusual feature distributions\n",
    "\n",
    "<img src=\"../resources/boostrap.png\" alt=\"Bootstrapping\" style=\"width: 750px;\"/>\n",
    "\n",
    "[Image Source](https://dgarcia-eu.github.io/SocialDataScience/2_SocialDynamics/025_Bootstrapping/Bootstrapping.html)"
   ]
  },
  {
   "cell_type": "code",
   "execution_count": null,
   "metadata": {},
   "outputs": [],
   "source": [
    "def bootstrap(model, X, y, n=100, verbose=False):\n",
    "    \"\"\"Bootstrap the data and fit the model n times.\n",
    "    \n",
    "    Args:\n",
    "        model (sklearn model): model to fit\n",
    "        X (np.array): dataset to fit\n",
    "        y (np.array): labels to fit\n",
    "        n (int): number of bootstraps\n",
    "        verbose (bool): print progress\n",
    "\n",
    "    Returns:\n",
    "        accs (np.array): array of accuracies\n",
    "        cens (np.array): array of cross-entropies\n",
    "    \"\"\"\n",
    "    accs, cens = np.zeros(n), np.zeros(n)\n",
    "    X_train, X_test, y_train, y_test = train_test_split(X, y, test_size=0.2)\n",
    "    for i in range(n):\n",
    "        if verbose and i % (n // 10) == 0:\n",
    "            print(f\"Bootstrap {i}/{n}\", flush=True)\n",
    "\n",
    "        ## Pick random subsets of the full dataset to use for fitting a model\n",
    "        subset_inds = np.random.choice(len(X_train), len(X_train))\n",
    "        X_train_subset, y_train_subset = X_train[subset_inds], y_train[subset_inds]\n",
    "\n",
    "        #X_train, X_test, y_train, y_test = train_test_split(X, y, train_size=0.5)\n",
    "        model.fit(X_train_subset, y_train_subset)\n",
    "        y_pred_test = model.predict(X_test)\n",
    "        accs[i] = accuracy(y_test, y_pred_test)\n",
    "        cens[i] = cross_entropy(y_test, y_pred_test)\n",
    "    return accs, cens\n",
    "\n",
    "accs, cens = bootstrap(model_logistic, dataset.X_all, dataset.labels, verbose=True)"
   ]
  },
  {
   "cell_type": "code",
   "execution_count": null,
   "metadata": {},
   "outputs": [],
   "source": [
    "print(\"Mean accuracy: \", np.mean(accs), \"+/-\", np.std(accs), \"%\")\n",
    "print(\"Mean cross-entropy: \", np.mean(cens), \"+/-\", np.std(cens))\n",
    "\n",
    "plt.hist(accs, bins=20)\n",
    "plt.xlabel(\"Accuracy\")\n",
    "plt.ylabel(\"Frequency\")\n",
    "plt.title(\"Accuracy distribution\")\n",
    "plt.show()\n",
    "\n",
    "plt.hist(cens, bins=20)\n",
    "plt.xlabel(\"Cross-entropy\")\n",
    "plt.ylabel(\"Frequency\")\n",
    "plt.title(\"Cross-entropy distribution\")\n",
    "plt.show()\n"
   ]
  },
  {
   "cell_type": "code",
   "execution_count": null,
   "metadata": {},
   "outputs": [],
   "source": []
  },
  {
   "cell_type": "code",
   "execution_count": null,
   "metadata": {},
   "outputs": [],
   "source": []
  },
  {
   "cell_type": "markdown",
   "metadata": {},
   "source": [
    "## Logistic regression is powerful\n",
    "\n",
    "<img src=\"../resources/nature_aftershocks.png\" alt=\"Nature Aftershocks\" style=\"width: 750px;\"/>\n",
    "<img src=\"../resources/nature_aftershocks_figure.png\" alt=\"Nature Aftershocks\" style=\"width: 750px;\"/>\n",
    "\n",
    "Source for image: [DeVries et al., Nature 2018](https://www.nature.com/articles/s41586-018-0438-y)"
   ]
  },
  {
   "cell_type": "markdown",
   "metadata": {},
   "source": [
    "<img src=\"../resources/earthquake_response.png\" alt=\"Nature Aftershocks Reply\" style=\"width: 750px;\"/>\n",
    "\n",
    "Source for image: [Mignan & Broccardo, Nature 2019](https://www.nature.com/articles/s41586-019-1582-8)"
   ]
  },
  {
   "cell_type": "code",
   "execution_count": null,
   "metadata": {},
   "outputs": [],
   "source": []
  },
  {
   "cell_type": "code",
   "execution_count": null,
   "metadata": {},
   "outputs": [],
   "source": []
  },
  {
   "cell_type": "code",
   "execution_count": null,
   "metadata": {},
   "outputs": [],
   "source": []
  },
  {
   "cell_type": "code",
   "execution_count": null,
   "metadata": {},
   "outputs": [],
   "source": []
  },
  {
   "cell_type": "code",
   "execution_count": null,
   "metadata": {},
   "outputs": [],
   "source": []
  },
  {
   "cell_type": "code",
   "execution_count": null,
   "metadata": {},
   "outputs": [],
   "source": []
  },
  {
   "cell_type": "code",
   "execution_count": null,
   "metadata": {},
   "outputs": [],
   "source": []
  },
  {
   "cell_type": "code",
   "execution_count": null,
   "metadata": {},
   "outputs": [],
   "source": []
  },
  {
   "cell_type": "code",
   "execution_count": null,
   "metadata": {},
   "outputs": [],
   "source": []
  },
  {
   "cell_type": "code",
   "execution_count": null,
   "metadata": {},
   "outputs": [],
   "source": []
  }
 ],
 "metadata": {
  "anaconda-cloud": {},
  "kernelspec": {
   "display_name": "Python 3.10.4 ('cphy')",
   "language": "python",
   "name": "python3"
  },
  "language_info": {
   "codemirror_mode": {
    "name": "ipython",
    "version": 3
   },
   "file_extension": ".py",
   "mimetype": "text/x-python",
   "name": "python",
   "nbconvert_exporter": "python",
   "pygments_lexer": "ipython3",
   "version": "3.11.5"
  },
  "vscode": {
   "interpreter": {
    "hash": "0e972983abb2b5c6293c34082f6ff1f6e60e8afbd2a068e0026ccecbb212fdb6"
   }
  }
 },
 "nbformat": 4,
 "nbformat_minor": 1
}
