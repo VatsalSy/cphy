{
 "cells": [
  {
   "cell_type": "markdown",
   "metadata": {},
   "source": [
    "# Training neural networks\n",
    "\n",
    "Preamble: Run the cells below to import the necessary Python packages\n",
    "\n",
    "*This notebook created by William Gilpin. Consult the [course website](https://www.wgilpin.com/cphy) for all content and [GitHub repository](https://github.com/williamgilpin/cphy) for raw files and runnable online code.*"
   ]
  },
  {
   "cell_type": "code",
   "execution_count": 1,
   "metadata": {},
   "outputs": [],
   "source": [
    "## Preamble / required packages\n",
    "import numpy as np\n",
    "np.random.seed(0)\n",
    "\n",
    "## Import local plotting functions and in-notebook display functions\n",
    "import matplotlib.pyplot as plt\n",
    "from IPython.display import Image, display\n",
    "%matplotlib inline\n",
    "\n",
    "import warnings\n",
    "## Comment this out to activate warnings\n",
    "warnings.filterwarnings('ignore')\n",
    "\n",
    "\n",
    "plt.style.use(\"dark_background\")"
   ]
  },
  {
   "cell_type": "markdown",
   "metadata": {},
   "source": [
    "+ Linear regression had an analytic equation for the weight matrix $\\boldsymbol{\\theta}$ that minimized the cost function. Usually we aren't so lucky as to have a solvable convex optimization problem\n",
    "\n",
    "+ The next best thing is to have an optimization problem (possibly non-convex) where the loss is a smooth, differentiable function of the weights. In this case, we get to use gradient descent.\n",
    "\n",
    "#### What if our problem is non-differentiable?\n",
    "+ Brute force (try random parameters and see what gives the best result).\n",
    "+ Genetic algorithms, reinforcement learning\n",
    "+ Can attempt to use gradient descent, but we need to use a surrogate function that is differentiable\n"
   ]
  },
  {
   "cell_type": "code",
   "execution_count": null,
   "metadata": {},
   "outputs": [],
   "source": []
  },
  {
   "cell_type": "markdown",
   "metadata": {},
   "source": [
    "### Our test problem: predicting the Reynolds number of a turbulent flow\n",
    "\n",
    "+ Because we are going to use fully-connected nets, we downsample the dataset substantially."
   ]
  },
  {
   "cell_type": "code",
   "execution_count": 220,
   "metadata": {},
   "outputs": [
    {
     "data": {
      "image/png": "[encoded data removed]",
      "text/plain": [
       "<Figure size 1200x300 with 4 Axes>"
      ]
     },
     "metadata": {},
     "output_type": "display_data"
    }
   ],
   "source": [
    "## Load the Reynold number regression dataset\n",
    "\n",
    "from sklearn.model_selection import train_test_split\n",
    "\n",
    "\n",
    "class ReynoldsDataset:\n",
    "    \"\"\"\n",
    "    Class to load the Reynolds number classification dataset\n",
    "    \n",
    "    Parameters:\n",
    "        downsample (int): Factor by which to downsample the dataset\n",
    "        split (float): Fraction of data to use for testing\n",
    "        fourier_features (bool): Whether to use Fourier features instead of real space\n",
    "        observable (str): Which observable to use for the dataset. Options are \"vorticity\", \"velocity\", \"magnitude\", and \"divergence\"\n",
    "    \"\"\"\n",
    "\n",
    "    def __init__(self, downsample=1, split=0.2, fourier_features=False, observable=\"vorticity\"):\n",
    "\n",
    "        all_vorticity_fields = list()\n",
    "        all_reynolds_numbers = list()\n",
    "\n",
    "        # Load simulations for different Reynolds numbers\n",
    "        re_vals = [300, 600, 900, 1200]\n",
    "        for re_val in re_vals:\n",
    "\n",
    "            # Load the two-dimensional velocity field data. Data is stored in a 4D numpy array,\n",
    "            # where the first dimension is the time index, the second and third dimensions are the\n",
    "            # x and y coordinates, and the fourth dimension is the velocity components (ux or uv).\n",
    "            vfield = np.load(\n",
    "                f\"../resources/von_karman_street/vortex_street_velocities_Re_{re_val}_largefile.npz\", \n",
    "                allow_pickle=True\n",
    "            )\n",
    "\n",
    "            if observable == \"vorticity\":\n",
    "                # Calculate the vorticity, which is the curl of the velocity field\n",
    "                vort_field = np.diff(vfield, axis=1)[..., :-1, 1] + np.diff(vfield, axis=2)[:, :-1, :, 0]\n",
    "            elif observable == \"velocity\":\n",
    "                vort_field = vfield\n",
    "            elif observable == \"magnitude\":\n",
    "                vort_field = np.sqrt(np.sum(vfield**2, axis=-1))\n",
    "            elif observable == \"divergence\":\n",
    "                vort_field = np.diff(vfield, axis=1)[..., :-1, 0] + np.diff(vfield, axis=2)[:, :-1, :, 1]\n",
    "            else:\n",
    "                raise ValueError(\"Unknown observable type\")\n",
    "\n",
    "            # Calculate the vorticity, which is the curl of the velocity field\n",
    "            vort_field = np.diff(vfield, axis=1)[..., :-1, 1] + np.diff(vfield, axis=2)[:, :-1, :, 0]\n",
    "\n",
    "            # Take wake field only\n",
    "            vort_field = vort_field[::6, -127:, :]\n",
    "\n",
    "            # downsample the dataset\n",
    "            vort_field = vort_field[:, ::downsample, ::downsample]\n",
    "\n",
    "            all_vorticity_fields.append(vort_field)\n",
    "            all_reynolds_numbers.extend(re_val * np.ones(vort_field.shape[0]))\n",
    "\n",
    "        self.data_shape = vort_field[0].shape\n",
    "\n",
    "        all_vorticity_fields = np.vstack(all_vorticity_fields)\n",
    "        all_reynolds_numbers = np.array(all_reynolds_numbers)\n",
    "\n",
    "        X = np.reshape(all_vorticity_fields, (all_vorticity_fields.shape[0], -1))\n",
    "        y = all_reynolds_numbers\n",
    "\n",
    "        X_train, X_test, y_train, y_test = train_test_split(X, y, test_size=0.2, random_state=0)\n",
    "\n",
    "        self.X_train = X_train\n",
    "        self.X_test = X_test\n",
    "        self.y_train = y_train\n",
    "        self.y_test = y_test\n",
    "        self.X = np.vstack([X_train, X_test])\n",
    "        self.y = np.hstack([y_train, y_test])\n",
    "\n",
    "    def reshape(self, X):\n",
    "        if len(X.shape) == 1:\n",
    "            return X.reshape(self.data_shape)\n",
    "        elif len(X.shape) == 2:\n",
    "            return np.reshape(X, (X.shape[0], 127, 127))\n",
    "        else:\n",
    "            raise ValueError(\"X must be a 1D or 2D array\")\n",
    "    \n",
    "    def __len__(self):\n",
    "        return len(self.y)\n",
    "\n",
    "    def __getitem__(self, idx):\n",
    "        return self.X[idx], self.y[idx]\n",
    "\n",
    "\n",
    "dataset = ReynoldsDataset(downsample=10)\n",
    "\n",
    "## plot examples of the dataset\n",
    "fig, ax = plt.subplots(1, 4, figsize=(12, 3))\n",
    "for i, re in enumerate([300, 600, 900, 1200]):\n",
    "    ax[i].imshow(dataset.reshape(dataset.X[dataset.y == re][0]), cmap='bwr', vmin=-0.01, vmax=0.01)\n",
    "    ax[i].set_title(f\"Re = {re}\")\n",
    "    ax[i].axis(\"off\")\n",
    "plt.show()\n"
   ]
  },
  {
   "cell_type": "code",
   "execution_count": 177,
   "metadata": {},
   "outputs": [
    {
     "name": "stdout",
     "output_type": "stream",
     "text": [
      "R^2 score: 0.990988\n"
     ]
    }
   ],
   "source": [
    "from sklearn.neural_network import MLPRegressor\n",
    "mlp = MLPRegressor(hidden_layer_sizes=(100, 100), activation='relu', solver='adam', learning_rate='constant',\n",
    "                     learning_rate_init=0.001, max_iter=1000, random_state=0, batch_size=32)\n",
    "\n",
    "\n",
    "X_train, X_test, y_train, y_test = dataset.X_train, dataset.X_test, dataset.y_train, dataset.y_test\n",
    "\n",
    "mlp.fit(X_train, y_train)\n",
    "\n",
    "## Score\n",
    "print(\"R^2 score: %f\" % mlp.score(X_test, y_test))"
   ]
  },
  {
   "cell_type": "code",
   "execution_count": null,
   "metadata": {},
   "outputs": [],
   "source": []
  },
  {
   "cell_type": "code",
   "execution_count": null,
   "metadata": {},
   "outputs": [],
   "source": []
  },
  {
   "cell_type": "code",
   "execution_count": null,
   "metadata": {},
   "outputs": [],
   "source": []
  },
  {
   "cell_type": "code",
   "execution_count": null,
   "metadata": {},
   "outputs": [],
   "source": []
  },
  {
   "cell_type": "markdown",
   "metadata": {},
   "source": [
    "# How do we train this?\n",
    "\n",
    "Given a model \n",
    "$$\n",
    "\\hat{\\mathbf{y}} = \\sigma(\\boldsymbol{\\theta}_2 \\sigma(\\boldsymbol{\\theta}_1 \\mathbf{x}))\n",
    "$$\n",
    "\n",
    "with known true labels $y$ for every $\\mathbf{x}$, we can update the weights with gradient descent:\n",
    "\n",
    "$$\\theta_{i+1} = \\theta_i - \\eta \\frac{\\partial \\mathcal{L}}{\\partial \\theta_i}$$\n",
    "\n",
    "where $\\eta$ is the learning rate. Given a training set with $N$ examples, we usually take the average of the gradient computed over the $N$ examples.\n",
    "\n",
    "\n",
    "### Linear model\n",
    "\n",
    "The model is given by\n",
    "\n",
    "$$\\hat{y} = \\theta_0 + \\theta_1 x_1 + \\theta_2 x_2 + \\cdots + \\theta_n x_n$$\n",
    "\n",
    "For linear regression, we typically use the mean-squared loss function,\n",
    "\n",
    "$$\\mathcal{L} = \\frac{1}{2} \\sum_{i=1}^N (\\hat{y}_i - y_i)^2$$\n",
    "\n",
    "$$\n",
    "\\frac{\\partial \\mathcal{L}}{\\partial \\theta_j} = \\sum_{i=1}^N (\\hat{y}_j - y_j) x_{ij}\n",
    "$$\n",
    "\n",
    "where $i$ indexes the data points and $j$ indexes the features.\n",
    "\n",
    "### Logistic model:\n",
    "\n",
    "The model is\n",
    "\n",
    "$$\\hat{y} = \\frac{1}{1 + e^{-\\theta_0 - \\theta_1 x_1 - \\theta_2 x_2 - \\cdots - \\theta_n x_n}}$$\n",
    "\n",
    "Instead of mean-squared error, logistic models are often trained using cross-entropy loss:\n",
    "\n",
    "$$\\mathcal{L} = - \\sum_{i=1}^N y_i \\log \\hat{y}_i + (1 - y_i) \\log (1 - \\hat{y}_i)$$\n",
    "\n",
    "$$\n",
    "\\frac{\\partial \\hat{y}}{\\partial \\theta_j} = -\\sum_{i=1}^N \\dfrac{1}{4} x_{ij} \\log(2 y_i - 1) \\text{sech}^2\\left(\\dfrac{\\theta_j x_{ij}}{2}\\right)\n",
    "$$\n",
    "\n",
    "\n",
    "\n",
    "### Multivariate Linear model\n",
    "\n",
    "The model is\n",
    "\n",
    "$$\\hat{\\mathbf{y}} = \\boldsymbol{\\theta} \\mathbf{X}$$\n",
    "\n",
    "where $\\mathbf{x}$ is a $1 \\times D$ matrix with $N$ data points and $D$ features, the weight matrix $\\boldsymbol{\\theta} \\in \\mathbb{R}^{M \\times D}$ , and the prediction vector is $\\hat{\\mathbf{y}} \\in \\mathbb{R}^M$. Usually, we work with the data matrix $X = \\{ \\mathbf{x}_i \\} \\in \\mathbb{R}^{N \\times D}$.\n",
    "\n",
    "The mean-squared loss function is\n",
    "\n",
    "$$\\mathcal{L} = \\frac{1}{2} \\sum_{i=1}^N (\\hat{\\mathbf{y}}_i - \\mathbf{y}_i)^T(\\hat{\\mathbf{y}}_i - \\mathbf{y}_i)$$\n",
    "\n",
    "The gradient is\n",
    "\n",
    "$$\n",
    "\\frac{\\partial \\mathcal{L}}{\\partial \\boldsymbol{\\theta}} = \\sum_{i=1}^N (\\hat{\\mathbf{y}}_i - \\mathbf{y}_i) \\mathbf{x}_i^T\n",
    "$$\n",
    "\n",
    "Notice that the gradient is a matrix $\\frac{\\partial \\mathcal{L}}{\\partial \\boldsymbol{\\theta}}  \\in  \\mathbb{R}^{M \\times D}$, where each row is the gradient of the loss with respect to the weights for a single output. This means that we have update values separately for each element of the weight matrix. Also, note that the right hand side is an outer product, while the forward pass is an inner product.\n",
    "\n",
    "<!-- ### Neural network\n",
    "\n",
    "The model is\n",
    "\n",
    "$$\\hat{y} = f(\\theta_0 + \\theta_1 x_1 + \\theta_2 x_2 + \\cdots + \\theta_n x_n)$$\n",
    "\n",
    "where $f$ is a non-linear function. For example, $f$ could be a sigmoid function:\n",
    "\n",
    "$$f(x) = \\frac{1}{1 + e^{-x}}$$ -->\n",
    "\n",
    "\n"
   ]
  },
  {
   "cell_type": "code",
   "execution_count": null,
   "metadata": {},
   "outputs": [],
   "source": []
  },
  {
   "cell_type": "code",
   "execution_count": null,
   "metadata": {},
   "outputs": [],
   "source": []
  },
  {
   "cell_type": "markdown",
   "metadata": {},
   "source": [
    "## Going deeper: Backpropagation\n",
    "\n",
    "### Forward pass\n",
    "\n",
    "$$\n",
    "\\hat{\\mathbf{y}} = \\sigma(\\boldsymbol{\\theta}_2 \\sigma(\\boldsymbol{\\theta}_1 \\mathbf{x}))\n",
    "$$\n",
    "for concreteness, we will use the sigmoid nonlinearity $\\sigma(x) = \\frac{1}{1 + e^{-x}}$.\n",
    "\n",
    "We start by breaking this into single steps\n",
    "\n",
    "$$\n",
    "\\mathbf{h}_1^{u} = \\boldsymbol{\\theta}_1 \\mathbf{x}\n",
    "$$\n",
    "\n",
    "$$\n",
    "\\mathbf{h}_1 = \\sigma(\\mathbf{h}_1^{u})\n",
    "$$\n",
    "\n",
    "$$\n",
    "\\mathbf{h}_2^{u} = \\boldsymbol{\\theta}_2 \\mathbf{h}_1\n",
    "$$\n",
    "\n",
    "$$\n",
    "\\hat{\\mathbf{y}} = \\sigma(\\mathbf{h}_2^{u})\n",
    "$$\n",
    "\n",
    "\n",
    "### Backward pass\n",
    "\n",
    "Suppose we pass an input $\\mathbf{x}$ and get an output $\\hat{\\mathbf{y}}$, and we know the true output is $\\mathbf{y}$.\n",
    "\n",
    "If we are using the mean-squared error loss function, then for a single training example $\\mathbf{y}$, the loss is\n",
    "\n",
    "$$\n",
    "\\mathcal{L} = \\frac{1}{2} (\\hat{\\mathbf{y}} - \\mathbf{y})^\\top(\\hat{\\mathbf{y}} - \\mathbf{y})\n",
    "$$\n",
    "\n",
    "We want to update all the parameters $\\boldsymbol{\\theta}_1$ and $\\boldsymbol{\\theta}_2$ to minimize this loss.\n",
    "\n",
    "We traverse the network *backwards* in order to compute gradients.\n",
    "\n",
    "$$\n",
    "\\frac{\\partial \\mathcal{L}}{\\partial \\boldsymbol{\\theta}_2} = \\frac{\\partial \\mathcal{L}}{\\partial \\hat{\\mathbf{y}}} \\frac{\\partial \\hat{\\mathbf{y}}}{\\partial \\mathbf{h}_2^{u}} \\frac{\\partial \\mathbf{h}_2^{u}}{\\partial \\boldsymbol{\\theta}_2}\n",
    "$$\n",
    "\n",
    "Solving this sequence from left-to-right,\n",
    "\n",
    "$$\n",
    "\\frac{\\partial \\mathcal{L}}{\\partial \\hat{\\mathbf{y}}} = \\hat{\\mathbf{y}} - \\mathbf{y}\n",
    "$$\n",
    "\n",
    "$$\n",
    "\\frac{\\partial \\hat{\\mathbf{y}}}{\\partial \\mathbf{h}_2^{u}} = \\hat{\\mathbf{y}} (1 - \\hat{\\mathbf{y}})\n",
    "$$\n",
    "\n",
    "$$\n",
    "\\frac{\\partial \\mathbf{h}_2^{u}}{\\partial \\boldsymbol{\\theta}_2} = \\mathbf{h}_1^\\top\n",
    "$$\n",
    "\n",
    "Putting this all together,\n",
    "\n",
    "$$\n",
    "\\frac{\\partial \\mathcal{L}}{\\partial \\boldsymbol{\\theta}_2} = (\\hat{\\mathbf{y}} - \\mathbf{y}) \\odot \\hat{\\mathbf{y}} (1 - \\hat{\\mathbf{y}}) \\mathbf{h}_1^\\top\n",
    "$$\n",
    "\n",
    "where $\\odot$ is the element-wise product.\n",
    "\n",
    "We can now compute the gradient for the first layer.\n",
    "\n",
    "$$\n",
    "\\frac{\\partial \\mathcal{L}}{\\partial \\boldsymbol{\\theta}_1} = \n",
    "\n",
    "\\frac{\\partial \\mathcal{L}}{\\partial \\hat{\\mathbf{y}}} \\frac{\\partial \\hat{\\mathbf{y}}}{\\partial \\mathbf{h}_2^{u}} \n",
    "\n",
    "\n",
    " \\frac{\\partial \\mathbf{h}_2^{u}}{\\partial \\mathbf{h}_1} \\frac{\\partial \\mathbf{h}_1}{\\partial \\mathbf{h}_1^{u}} \\frac{\\partial \\mathbf{h}_1^{u}}{\\partial \\boldsymbol{\\theta}_1}\n",
    "$$\n",
    "\n",
    "We can combine the first two terms, which we already calculated above, and then solve from left to right.\n",
    "\n",
    "$$\n",
    "\\frac{\\partial \\mathcal{L}}{\\partial \\mathbf{h}_2^{u}} = (\\hat{\\mathbf{y}} - \\mathbf{y}) \\odot \\hat{\\mathbf{y}} (1 - \\hat{\\mathbf{y}}) \\boldsymbol{\\theta}_2^\\top\n",
    "$$\n",
    "\n",
    "$$\n",
    "\\frac{\\partial \\mathbf{h}_2^{u}}{\\partial \\mathbf{h}_1} = \\mathbf{h}_1 (1 - \\mathbf{h}_1)\n",
    "$$\n",
    "\n",
    "$$\n",
    "\\frac{\\partial \\mathbf{h}_1}{\\partial \\mathbf{h}_1^{u}} = \\mathbf{h}_1^{u} (1 - \\mathbf{h}_1^{u})\n",
    "$$\n",
    "\n",
    "$$\n",
    "\\frac{\\partial \\mathbf{h}_1^{u}}{\\partial \\boldsymbol{\\theta}_1} = \\mathbf{x}^\\top\n",
    "$$\n",
    "\n",
    "Putting this all together,\n",
    "\n",
    "$$\n",
    "\\frac{\\partial \\mathcal{L}}{\\partial \\boldsymbol{\\theta}_1} = (\\hat{\\mathbf{y}} - \\mathbf{y}) \\odot \\hat{\\mathbf{y}} (1 - \\hat{\\mathbf{y}}) \\boldsymbol{\\theta}_2^\\top \\odot \\mathbf{h}_1 (1 - \\mathbf{h}_1) \\odot \\mathbf{h}_1^{u} (1 - \\mathbf{h}_1^{u}) \\mathbf{x}^\\top\n",
    "$$\n",
    "\n",
    "\n",
    "\n",
    "### Some things to note\n",
    "\n",
    "+ Several of the \"intermediate\" values we computed during the forward pass reappear here. If we cached these values, then we don't have to recompute them during the backward pass. \n",
    "\n",
    "+ Notice that when we compute the \"forward\" pass we start with the innermost portion of the function computation, and then work our way out. For the backwards pass, we start with the outermost portion of the function computation, and work our way in. \n",
    "\n",
    "+ Notice that the sigmoid function's derivative is a function of its output. This is a common pattern in autodiff. \n",
    "\n",
    "+ In order to keep track of indicies and transposes, it helps to think about the dimensions of the input/output of each primitive operation.\n",
    "\n",
    "+ It's useful to remember the some [rules for matrix multiplication:](https://www.math.uwaterloo.ca/~hwolkowi/matrixcookbook.pdf)\n",
    "\n",
    "$$\n",
    "\\frac{\\partial\\mathbf{A} \\mathbf{B}}{\\partial \\mathbf{A}} = \\mathbf{B}^\\top, \\qquad\n",
    "\\frac{\\partial\\mathbf{A} \\mathbf{B}}{\\partial \\mathbf{B}} = \\mathbf{A}\n",
    "$$\n",
    "<!-- \n",
    "These left-right rules are also used in the derivation of the linear regression pseudoinverse global solution.\n",
    "\n",
    "Additionally, we should remember the chain rule for derivatives:\n",
    "$$\n",
    "\\frac{\\partial\\mathbf{A}(u) \\mathbf{B}(u)}{\\partial u} = \\frac{\\partial\\mathbf{A}(u)}{\\partial u} \\mathbf{B}(u) + \\mathbf{A}(u) \\frac{\\partial\\mathbf{B}(u)}{\\partial u}\n",
    "$$ -->\n"
   ]
  },
  {
   "cell_type": "code",
   "execution_count": null,
   "metadata": {},
   "outputs": [],
   "source": []
  },
  {
   "cell_type": "code",
   "execution_count": null,
   "metadata": {},
   "outputs": [],
   "source": []
  },
  {
   "cell_type": "markdown",
   "metadata": {},
   "source": [
    "# A reminder regarding indices...\n",
    "\n",
    "For a single datapoint (vector) $\\mathbf{x} \\in \\mathbb{R}^{d}$, the forward pass of a multilayer perceptron is\n",
    "$$\n",
    "\\hat{\\mathbf{y}} = \\sigma(\\boldsymbol{\\theta}_2 \\sigma(\\boldsymbol{\\theta}_1 \\mathbf{x}))\n",
    "$$\n",
    "\n",
    "We normally aggregate many datapoints into a matrix $\\mathbf{X} \\in \\mathbb{R}^{N \\times d}$, where $N$ is the number of datapoints. In this case, the forward pass returns $\\hat{\\mathbf{Y}} \\in \\mathbb{R}^{N \\times 1}$, where each row is the prediction for a single datapoint. For some regression problems (such as the fluid forecasting problem on the homework), $\\hat{\\mathbf{Y}} \\in \\mathbb{R}^{N \\times M}$\n",
    "\n",
    "The first index, the data or \"batch\" index, is usually vectorized: it passes right through the model, since every data point has an output. The first index usually recieves special treatment in high-level packages like PyTorch and TensorFlow, since it is often used to aggregate gradients from multiple datapoints.\n",
    "\n",
    "The loss function is usually a function of the entire dataset, including the batch index. For example, the mean squared loss is\n",
    "$$\n",
    "\\mathcal{L}(X, \\mathbf{y}, \\boldsymbol{\\theta}) = \\frac{1}{N} \\sum_{i=1}^N \\frac{1}{2} (\\hat{y}_i - y_i)^2\n",
    "$$\n",
    "\n",
    "For a multivariate prediction problem, the loss function is\n",
    "\n",
    "$$\n",
    "\\mathcal{L}(X, Y, \\boldsymbol{\\theta}) = \\frac{1}{N} \\sum_{i=1}^N \\frac{1}{2} \\|\\hat{\\mathbf{y}}_i - \\mathbf{y}_i\\|^2\n",
    "$$\n",
    "\n",
    "where $\\hat{\\mathbf{y}}_i \\in \\mathbb{R}^{M}$ and $\\mathbf{y}_i \\in \\mathbb{R}^{M}$.\n",
    "\n",
    "\n",
    "Importantly, when we compute gradients of the loss, we treat *the entire dataset* $X$, the true labels $Y$, and even the current predicted labels $\\hat{Y}$ as a fixed set of constant parameters"
   ]
  },
  {
   "cell_type": "code",
   "execution_count": null,
   "metadata": {},
   "outputs": [],
   "source": []
  },
  {
   "cell_type": "code",
   "execution_count": null,
   "metadata": {},
   "outputs": [],
   "source": []
  },
  {
   "cell_type": "code",
   "execution_count": null,
   "metadata": {},
   "outputs": [],
   "source": []
  },
  {
   "cell_type": "markdown",
   "metadata": {},
   "source": [
    "# Backpropagation as a graph traversal\n",
    "\n",
    "\n",
    "<img src=\"../resources/backprop1.png\" width=\"750\">\n",
    "<img src=\"../resources/backprop2.png\" width=\"750\">\n",
    "\n",
    "*Diagrams from [UW CSE599W lecture notes](https://dlsys.cs.washington.edu/pdf/lecture4.pdf)*"
   ]
  },
  {
   "cell_type": "code",
   "execution_count": null,
   "metadata": {},
   "outputs": [],
   "source": []
  },
  {
   "cell_type": "markdown",
   "metadata": {},
   "source": [
    "## What does the code actually look like?\n",
    "\n",
    "+ We will put all of these ideas together into a multilayer perceptron class. \n",
    "\n",
    "+ We will use the sigmoid activation function, and the mean-squared error loss function."
   ]
  },
  {
   "cell_type": "code",
   "execution_count": 208,
   "metadata": {},
   "outputs": [
    {
     "name": "stdout",
     "output_type": "stream",
     "text": [
      "R^2 score: -2322.922740\n"
     ]
    }
   ],
   "source": [
    "class MultiLayerPerceptron:\n",
    "    \"\"\"An MLP for regression with mean squared loss and no bias\"\"\"\n",
    "\n",
    "    def __init__(self, hidden_layer_sizes=(100,), activation='relu', \n",
    "                 learning_rate=0.001, max_iter=1000, random_state=0, batch_size=32):\n",
    "        self.hidden_layer_sizes = hidden_layer_sizes\n",
    "        self.activation = activation\n",
    "        self.learning_rate = learning_rate\n",
    "        self.max_iter = max_iter\n",
    "        self.random_state = random_state\n",
    "        self.batch_size = batch_size\n",
    "\n",
    "    def _init_weights(self, n_features):\n",
    "        \"\"\"Initialize the weights of the network\"\"\"\n",
    "        rng = np.random.RandomState(self.random_state)\n",
    "        self.coefs_ = []\n",
    "        self.biases_ = []\n",
    "        # iterate over the layers and randomly initialize a weight matrix\n",
    "        # of shape (n_hidden, n_features) for the layer\n",
    "        # and a bias vector of shape (n_hidden,)\n",
    "        for n_hidden in self.hidden_layer_sizes:\n",
    "            self.coefs_.append(rng.normal(size=(n_hidden, n_features),\n",
    "                                          scale=1.0 / np.sqrt(n_features)))\n",
    "            self.biases_.append(rng.normal(size=n_hidden, scale=1.0 / np.sqrt(n_hidden)))\n",
    "            n_features = n_hidden\n",
    "\n",
    "        # We need to initialize the weights of the last layer\n",
    "        self.coefs_.append(rng.normal(size=(1, n_features),\n",
    "                                      scale=1.0 / np.sqrt(n_features)))\n",
    "        self.biases_.append(rng.normal(size=1, scale=1.0 / np.sqrt(n_features)))\n",
    "\n",
    "    def _forward_pass(self, X):\n",
    "        \"\"\"Compute the output of the network for input X\"\"\"\n",
    "        activations = X\n",
    "        activations = [X]\n",
    "        # iterate over the layers and compute the values of the neurons\n",
    "        # for the layer\n",
    "        for coef, bias in zip(self.coefs_[:-1], self.biases_[:-1]):\n",
    "            activations.append(self._activation(np.dot(activations[-1], coef.T) + bias))\n",
    "        # For the last layer, do not apply the activation function\n",
    "        activations.append(np.dot(activations[-1], self.coefs_[-1].T) + self.biases_[-1])\n",
    "        return activations\n",
    "        \n",
    "\n",
    "    def _activation(self, X):\n",
    "        \"\"\"Apply the activation function to X\"\"\"\n",
    "        if self.activation == 'relu':\n",
    "            return np.maximum(X, 0, X)\n",
    "        elif self.activation == 'tanh':\n",
    "            return np.tanh(X)\n",
    "        elif self.activation == 'identity':\n",
    "            return X\n",
    "        else:\n",
    "            raise ValueError(\"Unknown activation function %s\" % self.activation)\n",
    "\n",
    "    def _derivative_activation(self, X):\n",
    "        \"\"\"Compute the derivative of the activation function\"\"\"\n",
    "        if self.activation == 'relu':\n",
    "            return X > 0\n",
    "        elif self.activation == 'tanh':\n",
    "            return 1 - np.tanh(X) ** 2\n",
    "        elif self.activation == 'identity':\n",
    "            return 1\n",
    "        else:\n",
    "            raise ValueError(\"Unknown activation function %s\" % self.activation)\n",
    "\n",
    "    def _loss_mse(self, y_true, y_pred):\n",
    "        \"\"\"Compute the loss function\"\"\"\n",
    "        return np.mean((y_pred - y_true) ** 2)\n",
    "\n",
    "    def _loss_grad_mse(self, y_true, y_pred):\n",
    "        \"\"\"Compute the gradient of the loss function\"\"\"\n",
    "        return (y_pred.squeeze() - y_true.squeeze())[:, None]\n",
    "\n",
    "\n",
    "    def fit(self, X, y):\n",
    "        \"\"\"Fit the model to the data X and target y\"\"\"\n",
    "        self._init_weights(X.shape[1])\n",
    "        rng = np.random.RandomState(self.random_state)\n",
    "\n",
    "        for it in range(self.max_iter):\n",
    "            # Select a random batch\n",
    "            batch_indices = rng.randint(X.shape[0], size=self.batch_size)\n",
    "            X_batch, y_batch = X[batch_indices], y[batch_indices]\n",
    "\n",
    "            # Forward pass\n",
    "            activations = self._forward_pass(X_batch)\n",
    "\n",
    "            # Backward pass\n",
    "            deltas = self._loss_grad_mse(y_batch, activations[-1]) * self._derivative_activation(activations[-1])\n",
    "            for i in range(len(self.coefs_) - 1, 0, -1):\n",
    "                self.coefs_[i] -= self.learning_rate * np.dot(deltas.T, activations[i])\n",
    "                self.biases_[i] -= self.learning_rate * np.mean(deltas, axis=0)\n",
    "                deltas = np.dot(deltas, self.coefs_[i]) * self._derivative_activation(activations[i])\n",
    "\n",
    "            # First layer\n",
    "            self.coefs_[0] -= self.learning_rate * np.dot(deltas.T, activations[0])\n",
    "            self.biases_[0] -= self.learning_rate * np.mean(deltas, axis=0)\n",
    "\n",
    "    def predict(self, X):\n",
    "        \"\"\"Predict using the multi-layer perceptron\"\"\"\n",
    "        activations = self._forward_pass(X)\n",
    "        return activations[-1]\n",
    "\n",
    "    def score(self, X, y):\n",
    "        \"\"\"Return the coefficient of determination R^2 of the prediction.\"\"\"\n",
    "        y_pred = self.predict(X)\n",
    "        return 1 - np.sum((y - y_pred) ** 2) / np.sum((y - np.mean(y)) ** 2)\n",
    "\n",
    "## Generate a dataset\n",
    "rng = np.random.RandomState(0)\n",
    "X = np.sort(5 * rng.rand(40, 1), axis=0)\n",
    "X -= np.mean(X)\n",
    "y = np.sin(X).ravel()\n",
    "y[::5] += 1 * (0.5 - rng.rand(8))\n",
    "\n",
    "# Fit regression model\n",
    "mlp = MultiLayerPerceptron(hidden_layer_sizes=(100, 100), activation='relu',\n",
    "                            learning_rate=0.001, max_iter=2000, random_state=0,\n",
    "                            batch_size=35*5)\n",
    "\n",
    "# from sklearn.neural_network import MLPRegressor\n",
    "# mlp = MLPRegressor(hidden_layer_sizes=(100, 100), activation='relu', solver='adam', learning_rate='constant',\n",
    "#                      learning_rate_init=0.001, max_iter=1000, random_state=0, batch_size=32)\n",
    "\n",
    "\n",
    "X_train, X_test, y_train, y_test = dataset.X_train, dataset.X_test, dataset.y_train, dataset.y_test\n",
    "\n",
    "mlp.fit(X_train, y_train)\n",
    "\n",
    "## Score\n",
    "print(\"R^2 score: %f\" % mlp.score(X_test, y_test))\n",
    "\n",
    "\n",
    "        \n",
    "\n",
    "\n",
    "\n"
   ]
  },
  {
   "cell_type": "markdown",
   "metadata": {},
   "source": [
    "### Harder cases: branching paths, loops, and shared weights\n",
    "\n",
    "+ For more sophisticated architectures, we might have multiple paths through the network. For example, we might have a residual connection, where the output of the first layer is added to the output of the second layer.\n",
    "\n",
    "+ Backpropagation is more complicated, but as long as everything is deterministic and continuous, it should still be possible to implement all gradients at nodes.\n",
    "\n",
    "+ Modern deep learning frameworks like PyTorch and JAX have automatic differentiation, which can find the gradient from almost anything expressible as compositions of numpy functions. This is valuable, because modern architectures can get quite complicated:\n",
    "\n",
    "<img src=\"../resources/inceptionnet.png\" width=\"350\">\n",
    "\n",
    "*Diagram from [Szegedy et al. (2014)](https://arxiv.org/abs/1409.4842)*"
   ]
  },
  {
   "cell_type": "code",
   "execution_count": null,
   "metadata": {},
   "outputs": [],
   "source": []
  },
  {
   "cell_type": "markdown",
   "metadata": {},
   "source": [
    "# Math is hard: Automatic Differentiation\n",
    "\n",
    "+ Computing symbolic gradients of vector functions is exact but laborious\n",
    "\n",
    "+ Numerical gradients are approximate, easy, but expensive.\n",
    "\n",
    "+ If the input to our network is $M$-dimensional, then we need to compute $2\\,M$ gradients. For a 1 Megapixel image, this is a million gradient operations per gradient descent step\n",
    "\n",
    "*Automatic differentiation* is a technique that can compute the *exact* gradient of a function in a computationally-efficient manner.\n",
    "\n",
    "*Backpropagation* is reverse-mode autodiff applied to deep neural networks."
   ]
  },
  {
   "cell_type": "code",
   "execution_count": 239,
   "metadata": {},
   "outputs": [
    {
     "name": "stdout",
     "output_type": "stream",
     "text": [
      "-0.029225168711847025\n",
      "-0.4781751223381389\n"
     ]
    }
   ],
   "source": [
    "def double_well(x):\n",
    "    \"\"\"Double well potential function\"\"\"\n",
    "    return x**4 - 2*x**2\n",
    "\n",
    "def double_well_grad(x):\n",
    "    \"\"\"Derivative of double well potential function\"\"\"\n",
    "    return 4*x**3 - 4*x\n",
    "\n",
    "print(double_well(0.12132987))\n",
    "print(double_well_grad(0.12132987))"
   ]
  },
  {
   "cell_type": "markdown",
   "metadata": {},
   "source": [
    "### Let's write out these functions in terms of basic computational steps"
   ]
  },
  {
   "cell_type": "code",
   "execution_count": 240,
   "metadata": {},
   "outputs": [
    {
     "name": "stdout",
     "output_type": "stream",
     "text": [
      "-0.029225168711847025\n",
      "-0.4781751223381389\n"
     ]
    }
   ],
   "source": [
    "def double_well_primitive(x):\n",
    "    \"\"\"Decompose the double well calculation into primitive operations\"\"\"\n",
    "    h1a = x**4\n",
    "    h1b = 2*x**2\n",
    "    h2 = h1a - h1b\n",
    "    return h2\n",
    "\n",
    "def double_well_primitive_grad(x):\n",
    "    \"\"\"Decompose the double well gradient calculation into primitive operations\"\"\"\n",
    "    dh2dh1a = 1\n",
    "    dh2dh1b = -1\n",
    "    dh1adx = 4*x**3\n",
    "    dh1bdx = 4*x\n",
    "    dh2dx = dh2dh1a * dh1adx + dh2dh1b * dh1bdx\n",
    "    return dh2dx\n",
    "\n",
    "print(double_well_primitive(0.12132987))\n",
    "print(double_well_primitive_grad(0.12132987))"
   ]
  },
  {
   "cell_type": "markdown",
   "metadata": {},
   "source": [
    "### Let the computer do the work\n",
    "\n",
    "+ Most existing deep learning frameworks are built on top of autodiff\n",
    "+ Tensorflow, PyTorch, JAX, and many others allow you to specify the neural network as a function, and can compute the gradient automatically as long as everything is differentiable\n",
    "+ Implictly, these networks build a computation \"graph\" that is later traversed backwards to compute the gradient\n",
    "+ Caching forward pass values can speed up the backwards pass, since many derivatives depend on forward pass values"
   ]
  },
  {
   "cell_type": "code",
   "execution_count": 242,
   "metadata": {},
   "outputs": [
    {
     "name": "stdout",
     "output_type": "stream",
     "text": [
      "Forward pass value: -0.029225168711847025\n",
      "Analytic calculation backwards pass -0.4781751223381389\n",
      "Jax autodiff backwards pass -0.4781751\n"
     ]
    }
   ],
   "source": [
    "import jax\n",
    "\n",
    "def double_well(x):\n",
    "    \"\"\"Double well potential function\"\"\"\n",
    "    return x**4 - 2*x**2\n",
    "\n",
    "print(\"Forward pass value:\", double_well(0.12132987))\n",
    "print(\"Analytic calculation backwards pass\", double_well_grad(0.12132987))\n",
    "print(\"Jax autodiff backwards pass\", jax.grad(double_well)(0.12132987))\n"
   ]
  },
  {
   "cell_type": "code",
   "execution_count": 282,
   "metadata": {},
   "outputs": [
    {
     "name": "stdout",
     "output_type": "stream",
     "text": [
      "Forward pass value:\n",
      " 0.5584225\n",
      "\n",
      "Analytic calculation backwards pass:\n",
      " [0.19981267 0.21903262 0.0847854  0.421329   0.42325357]\n",
      "\n",
      "Jax autodiff backwards pass:\n",
      " [0.19981267 0.21903262 0.0847854  0.421329   0.42325357]\n"
     ]
    }
   ],
   "source": [
    "import jax.numpy as jnp\n",
    "\n",
    "a = jnp.array(np.random.random((5, )))\n",
    "x = jnp.array(np.random.random((5, )))\n",
    "\n",
    "def forward_pass(x, a):\n",
    "    \"\"\"Forward pass of a simple neural network\"\"\"\n",
    "    return jnp.tanh(a.T @ x)\n",
    "\n",
    "def backward_pass(x, a):\n",
    "    \"\"\"Backward pass of a simple neural network\"\"\"\n",
    "    return (1 - np.tanh(a.T @ x)**2) * x.T\n",
    "\n",
    "print(\"Forward pass value:\\n\", forward_pass(x, a))\n",
    "\n",
    "print(\"\\nAnalytic calculation backwards pass:\\n\", backward_pass(x, a))\n",
    "\n",
    "print(\"\\nJax autodiff backwards pass:\\n\", jax.grad(forward_pass, argnums=1)(x, a))\n",
    "    "
   ]
  },
  {
   "cell_type": "code",
   "execution_count": null,
   "metadata": {},
   "outputs": [],
   "source": []
  },
  {
   "cell_type": "code",
   "execution_count": null,
   "metadata": {},
   "outputs": [],
   "source": []
  },
  {
   "cell_type": "markdown",
   "metadata": {},
   "source": [
    "### Some optimization tricks\n",
    "\n",
    "+ Instead of \"full batch\" gradient descent, where we compute the average of the gradient $\\nabla_\\theta \\mathcal{L}(\\theta)$ over all training examples $x_i$, we can use *stochastic gradient descent*, where we randomly sample a *subset* of the training data during each gradient descent epoch. Smaller batch sizes are more noisy, while larger batch sizes are more accurate to the global geometry of the loss function.\n",
    "\n",
    "+  Instead of just gradient descent, we can use momentum and many other tricks we saw in optimization:\n",
    "    +  Stochastic\n",
    "    +  Momentum\n",
    "    +  Second-order methods (e.g. Newton's method)\n",
    "    +  Adaptive learning rates\n",
    "    +  Constrained Optimization (e.g. L1/L2 regularization)\n",
    "\n",
    "\n",
    "+ Currently, many practioners use [the Adam optimizer](https://arxiv.org/abs/1412.6980), which is a combination of momentum and weight-based learning rate adjustment. Second-order methods are less commonly used for large problems, due to the expense of finding the full Hessian, but approximates methods based on its eigenvalues are viable."
   ]
  },
  {
   "cell_type": "code",
   "execution_count": null,
   "metadata": {},
   "outputs": [],
   "source": []
  },
  {
   "cell_type": "markdown",
   "metadata": {},
   "source": [
    "# How do different hyperparameters affect training?\n",
    "\n",
    "Two common hyperparameters that we'll encounter when training large networks are the learning rate $\\eta$ and the batch size $B$.\n",
    "\n",
    "+ Batch size $B$: The number of training examples used to compute the gradient. Larger batch sizes are better estimators of the overall gradient of the loss landscape, but more expensive to compute. Smaller batch sizes are more noisy, but can be faster to compute. The stochasticity of small batch sizes can also help the network avoid local minima.\n",
    "\n",
    "+ Learning rate: The size of the step taken in the direction of the gradient. If the learning rate is too small, then the network will take a long time to converge. If the learning rate is too large, then the network will oscillate around the minimum, or even diverge.\n",
    "\n",
    "+ We'll demonstrate these hyperparameters using `scikit-learn`'s own `MLPRegressor` class, which is a multilayer perceptron for regression problems. We'll use the `adam` iterative optimization algorithm, which is a combination of momentum and adaptive learning rates."
   ]
  },
  {
   "cell_type": "code",
   "execution_count": 212,
   "metadata": {},
   "outputs": [
    {
     "name": "stdout",
     "output_type": "stream",
     "text": [
      "R^2 score: 0.990988\n"
     ]
    },
    {
     "data": {
      "text/plain": [
       "Text(0, 0.5, 'Loss')"
      ]
     },
     "execution_count": 212,
     "metadata": {},
     "output_type": "execute_result"
    },
    {
     "data": {
      "image/png": "[encoded data removed]",
      "text/plain": [
       "<Figure size 640x480 with 1 Axes>"
      ]
     },
     "metadata": {},
     "output_type": "display_data"
    }
   ],
   "source": [
    "from sklearn.neural_network import MLPRegressor\n",
    "\n",
    "\n",
    "\n",
    "mlp = MLPRegressor(hidden_layer_sizes=(100, 100), activation='relu', solver='adam', learning_rate='constant',\n",
    "                     learning_rate_init=0.001, max_iter=1000, random_state=0, batch_size=32)\n",
    "\n",
    "\n",
    "X_train, X_test, y_train, y_test = dataset.X_train, dataset.X_test, dataset.y_train, dataset.y_test\n",
    "\n",
    "mlp.fit(X_train, y_train)\n",
    "\n",
    "## Score\n",
    "print(\"R^2 score: %f\" % mlp.score(X_test, y_test))\n",
    "\n",
    "plt.semilogy(mlp.loss_curve_)\n",
    "plt.xlabel('Epoch')\n",
    "plt.ylabel('Loss')"
   ]
  },
  {
   "cell_type": "code",
   "execution_count": 213,
   "metadata": {},
   "outputs": [
    {
     "data": {
      "text/plain": [
       "Text(0, 0.5, 'Loss')"
      ]
     },
     "execution_count": 213,
     "metadata": {},
     "output_type": "execute_result"
    },
    {
     "data": {
      "image/png": "[encoded data removed]",
      "text/plain": [
       "<Figure size 640x480 with 1 Axes>"
      ]
     },
     "metadata": {},
     "output_type": "display_data"
    }
   ],
   "source": [
    "for batch_size_value in [2, 32, 512]:\n",
    "    mlp = MLPRegressor(hidden_layer_sizes=(100, 100), activation='relu', solver='adam', learning_rate='constant',\n",
    "                     learning_rate_init=0.001, max_iter=1000, random_state=0, batch_size=batch_size_value)\n",
    "\n",
    "    mlp.fit(X_train, y_train)\n",
    "    plt.semilogy(mlp.loss_curve_, label=f\"batch_size={batch_size_value}\")\n",
    "plt.xlabel('Epoch')\n",
    "plt.ylabel('Loss')"
   ]
  },
  {
   "cell_type": "code",
   "execution_count": 216,
   "metadata": {},
   "outputs": [
    {
     "data": {
      "text/plain": [
       "Text(0, 0.5, 'Loss')"
      ]
     },
     "execution_count": 216,
     "metadata": {},
     "output_type": "execute_result"
    },
    {
     "data": {
      "image/png": "[encoded data removed]",
      "text/plain": [
       "<Figure size 640x480 with 1 Axes>"
      ]
     },
     "metadata": {},
     "output_type": "display_data"
    }
   ],
   "source": [
    "for lr in [1e0, 1e-1, 1e-3, 1e-5]:\n",
    "    mlp = MLPRegressor(hidden_layer_sizes=(100, 100), \n",
    "                       activation='relu', \n",
    "                       solver='adam', \n",
    "                       learning_rate='constant',\n",
    "                       learning_rate_init=lr, \n",
    "                       max_iter=1000, \n",
    "                       random_state=0,\n",
    "                       batch_size=32)\n",
    "\n",
    "    mlp.fit(X_train, y_train)\n",
    "    plt.semilogy(mlp.loss_curve_, label=f\"learning_rate={lr}\")\n",
    "plt.xlabel('Epoch')\n",
    "plt.ylabel('Loss')"
   ]
  },
  {
   "cell_type": "code",
   "execution_count": null,
   "metadata": {},
   "outputs": [],
   "source": []
  },
  {
   "cell_type": "code",
   "execution_count": null,
   "metadata": {},
   "outputs": [],
   "source": []
  }
 ],
 "metadata": {
  "kernelspec": {
   "display_name": "Python 3.10.4 ('cphy')",
   "language": "python",
   "name": "python3"
  },
  "language_info": {
   "codemirror_mode": {
    "name": "ipython",
    "version": 3
   },
   "file_extension": ".py",
   "mimetype": "text/x-python",
   "name": "python",
   "nbconvert_exporter": "python",
   "pygments_lexer": "ipython3",
   "version": "3.11.5"
  },
  "vscode": {
   "interpreter": {
    "hash": "0e972983abb2b5c6293c34082f6ff1f6e60e8afbd2a068e0026ccecbb212fdb6"
   }
  }
 },
 "nbformat": 4,
 "nbformat_minor": 2
}
